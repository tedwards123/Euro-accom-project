{
 "cells": [
  {
   "cell_type": "markdown",
   "id": "31badae0",
   "metadata": {},
   "source": [
    "# Air BnB, Hotels.com and Booking.com Analysis"
   ]
  },
  {
   "cell_type": "markdown",
   "id": "387546d9",
   "metadata": {},
   "source": [
    "## Introduction\n",
    "\n",
    "I want to explore factors that can help us get the most out of our holiday accomodation. The ultimate goal of this analysis is to find out what factors are the major contributers to overall satisfaction. This notebook will include cleaning, EDA and advanced analysis. Even though satisfaction has a lot of subjective influence, the hope is to find that there are factors that may avoid or shine through the subjectiveness of satisfaction. "
   ]
  },
  {
   "cell_type": "markdown",
   "id": "224ec66c",
   "metadata": {},
   "source": [
    "## Data Description\n",
    "\n",
    "The data was obtained from Kaggle (https://www.kaggle.com/datasets/mykhailozub/500-hotels-from-airbnb-booking-and-hotelscom?select=Berlin.json). \n",
    "This was taken from the description: \n",
    "\n",
    "\"This dataset was created while I was working on a SerpApi demo project to showcase hotels-scraper-js NPM tool.\n",
    "\n",
    "This dataset includes only hotel listings from Airbnb, Booking, and Hotels.com, and the main point was to explore prices in famous European capitals. 500 hotels from each website per city.\n",
    "\n",
    "In total, there're 7500 hotel listings.\"\n",
    "\n",
    "There are 3 different arrays present in the json file which represent the 3 different websites (AirBnB. Hotels.com and Booking.com) used to gather the data. Below I will start the process of showing what is inside the dataset and then performing some cleaning techniques to refine the data."
   ]
  },
  {
   "cell_type": "markdown",
   "id": "68b0ea25",
   "metadata": {},
   "source": [
    "## Steps for Cleaning"
   ]
  },
  {
   "cell_type": "markdown",
   "id": "9853be0e",
   "metadata": {},
   "source": [
    "### Import Packages"
   ]
  },
  {
   "cell_type": "code",
   "execution_count": 131,
   "id": "b2130a88",
   "metadata": {},
   "outputs": [],
   "source": [
    "import json\n",
    "import pandas as pd\n",
    "import matplotlib.pyplot as plt\n",
    "import numpy as np\n",
    "from datetime import datetime\n",
    "import seaborn as sns\n",
    "from scipy.stats import zscore\n",
    "from scipy.stats import shapiro\n",
    "import statsmodels.api as sm\n",
    "from scipy import stats\n",
    "import math\n",
    "from sklearn.linear_model import LinearRegression\n",
    "from itertools import zip_longest\n",
    "import statsmodels.formula.api as smf\n",
    "import statsmodels.stats.multicomp as mc\n",
    "from scipy.optimize import curve_fit\n",
    "from sklearn.feature_selection import f_regression\n",
    "import scikit_posthocs as sp # might have to pip install 'scikit_posthocs'\n",
    "from scipy.stats import skew, kurtosis"
   ]
  },
  {
   "cell_type": "markdown",
   "id": "c9e9be72",
   "metadata": {},
   "source": [
    "### Inspect json files for different array names"
   ]
  },
  {
   "cell_type": "code",
   "execution_count": 2,
   "id": "b2999133",
   "metadata": {},
   "outputs": [
    {
     "name": "stdout",
     "output_type": "stream",
     "text": [
      "Arrays found in json files:\n",
      "\n",
      "airbnbHotels\n",
      "bookingHotels\n",
      "hotelsComHotels\n"
     ]
    }
   ],
   "source": [
    "# Open the JSON file\n",
    "with open('Berlin.json', encoding=\"utf8\") as f:\n",
    "    # Load the JSON data\n",
    "    data = json.load(f)\n",
    "\n",
    "# Find the names of all the arrays\n",
    "array_names = []\n",
    "for key, value in data.items():\n",
    "    if isinstance(value, list):\n",
    "        array_names.append(key)\n",
    "\n",
    "# Print the array names\n",
    "print('Arrays found in json files:\\n')\n",
    "for name in array_names:\n",
    "    print(name)"
   ]
  },
  {
   "cell_type": "markdown",
   "id": "b7c368fe",
   "metadata": {},
   "source": [
    "### Take array names and open each seperately as each have different information"
   ]
  },
  {
   "cell_type": "markdown",
   "id": "f4f7b60e",
   "metadata": {},
   "source": [
    "#### AirBnb"
   ]
  },
  {
   "cell_type": "code",
   "execution_count": 3,
   "id": "b2593dd4",
   "metadata": {},
   "outputs": [],
   "source": [
    "# created a function to open json files and then store them into a dictionary \n",
    "def file_opener_abnb(files):\n",
    "    data_dict = {}\n",
    "\n",
    "    for file in files:\n",
    "        # Opening JSON file\n",
    "        with open(file, encoding=\"utf8\") as f:\n",
    "            # Load JSON object as a dictionary\n",
    "            data = json.load(f)\n",
    "\n",
    "        # Store the \"airbnbHotels\" data in a list\n",
    "        file_list = [item for item in data[\"airbnbHotels\"]]\n",
    "\n",
    "        # Add the list to the dictionary with the file name as the key\n",
    "        data_dict[file] = file_list\n",
    "    \n",
    "    return data_dict\n",
    "\n",
    "files = ['Berlin.json', 'Paris.json', 'Rome.json', 'London.json', 'Madrid.json']\n",
    "\n",
    "result_abnb = file_opener_abnb(files)"
   ]
  },
  {
   "cell_type": "code",
   "execution_count": 4,
   "id": "6c90a0b4",
   "metadata": {},
   "outputs": [
    {
     "data": {
      "text/html": [
       "<div>\n",
       "<style scoped>\n",
       "    .dataframe tbody tr th:only-of-type {\n",
       "        vertical-align: middle;\n",
       "    }\n",
       "\n",
       "    .dataframe tbody tr th {\n",
       "        vertical-align: top;\n",
       "    }\n",
       "\n",
       "    .dataframe thead th {\n",
       "        text-align: right;\n",
       "    }\n",
       "</style>\n",
       "<table border=\"1\" class=\"dataframe\">\n",
       "  <thead>\n",
       "    <tr style=\"text-align: right;\">\n",
       "      <th></th>\n",
       "      <th>thumbnail</th>\n",
       "      <th>title</th>\n",
       "      <th>subtitles</th>\n",
       "      <th>price</th>\n",
       "      <th>rating</th>\n",
       "      <th>link</th>\n",
       "    </tr>\n",
       "  </thead>\n",
       "  <tbody>\n",
       "    <tr>\n",
       "      <th>0</th>\n",
       "      <td>https://a0.muscache.com/im/pictures/miso/Hosti...</td>\n",
       "      <td>Private room in Tempelhof</td>\n",
       "      <td>[Privatzimmer in Tempelhofer Feld, 1 bed, Jul ...</td>\n",
       "      <td>{'currency': '$', 'value': 31, 'period': 'night'}</td>\n",
       "      <td>5</td>\n",
       "      <td>https://www.airbnb.com/rooms/647664199858827562</td>\n",
       "    </tr>\n",
       "    <tr>\n",
       "      <th>1</th>\n",
       "      <td>https://a0.muscache.com/im/pictures/b9cb8b8c-5...</td>\n",
       "      <td>Private room in Mitte</td>\n",
       "      <td>[Tiny, individual Room with private Bathroom, ...</td>\n",
       "      <td>{'currency': '$', 'value': 40, 'period': 'night'}</td>\n",
       "      <td>4.96</td>\n",
       "      <td>https://www.airbnb.com/rooms/41220512</td>\n",
       "    </tr>\n",
       "    <tr>\n",
       "      <th>2</th>\n",
       "      <td>https://a0.muscache.com/im/pictures/miso/Hosti...</td>\n",
       "      <td>Hotel room in Prenzlauer Berg</td>\n",
       "      <td>[Serviced Apartment - Studio in Prenzlauer Ber...</td>\n",
       "      <td>{'currency': '$', 'value': 108, 'period': 'nig...</td>\n",
       "      <td>4.69</td>\n",
       "      <td>https://www.airbnb.com/rooms/30881310</td>\n",
       "    </tr>\n",
       "    <tr>\n",
       "      <th>3</th>\n",
       "      <td>https://a0.muscache.com/im/pictures/63522495/a...</td>\n",
       "      <td>Private room in Lichtenberg</td>\n",
       "      <td>[City East perfectly located, 1 king bed, Jul ...</td>\n",
       "      <td>{'currency': '$', 'value': 34, 'period': 'night'}</td>\n",
       "      <td>4.89</td>\n",
       "      <td>https://www.airbnb.com/rooms/2591901</td>\n",
       "    </tr>\n",
       "    <tr>\n",
       "      <th>4</th>\n",
       "      <td>https://a0.muscache.com/im/pictures/miso/Hosti...</td>\n",
       "      <td>Private room in Charlottenburg-Wilmersdorf</td>\n",
       "      <td>[Musical place next to Bundesplatz (U9 &amp; S-Rin...</td>\n",
       "      <td>{'currency': '$', 'value': 71, 'period': 'night'}</td>\n",
       "      <td>4.87</td>\n",
       "      <td>https://www.airbnb.com/rooms/19075304</td>\n",
       "    </tr>\n",
       "  </tbody>\n",
       "</table>\n",
       "</div>"
      ],
      "text/plain": [
       "                                           thumbnail  \\\n",
       "0  https://a0.muscache.com/im/pictures/miso/Hosti...   \n",
       "1  https://a0.muscache.com/im/pictures/b9cb8b8c-5...   \n",
       "2  https://a0.muscache.com/im/pictures/miso/Hosti...   \n",
       "3  https://a0.muscache.com/im/pictures/63522495/a...   \n",
       "4  https://a0.muscache.com/im/pictures/miso/Hosti...   \n",
       "\n",
       "                                        title  \\\n",
       "0                   Private room in Tempelhof   \n",
       "1                       Private room in Mitte   \n",
       "2               Hotel room in Prenzlauer Berg   \n",
       "3                 Private room in Lichtenberg   \n",
       "4  Private room in Charlottenburg-Wilmersdorf   \n",
       "\n",
       "                                           subtitles  \\\n",
       "0  [Privatzimmer in Tempelhofer Feld, 1 bed, Jul ...   \n",
       "1  [Tiny, individual Room with private Bathroom, ...   \n",
       "2  [Serviced Apartment - Studio in Prenzlauer Ber...   \n",
       "3  [City East perfectly located, 1 king bed, Jul ...   \n",
       "4  [Musical place next to Bundesplatz (U9 & S-Rin...   \n",
       "\n",
       "                                               price rating  \\\n",
       "0  {'currency': '$', 'value': 31, 'period': 'night'}      5   \n",
       "1  {'currency': '$', 'value': 40, 'period': 'night'}   4.96   \n",
       "2  {'currency': '$', 'value': 108, 'period': 'nig...   4.69   \n",
       "3  {'currency': '$', 'value': 34, 'period': 'night'}   4.89   \n",
       "4  {'currency': '$', 'value': 71, 'period': 'night'}   4.87   \n",
       "\n",
       "                                              link  \n",
       "0  https://www.airbnb.com/rooms/647664199858827562  \n",
       "1            https://www.airbnb.com/rooms/41220512  \n",
       "2            https://www.airbnb.com/rooms/30881310  \n",
       "3             https://www.airbnb.com/rooms/2591901  \n",
       "4            https://www.airbnb.com/rooms/19075304  "
      ]
     },
     "execution_count": 4,
     "metadata": {},
     "output_type": "execute_result"
    }
   ],
   "source": [
    "berlin_df_abnb = pd.DataFrame(result_abnb['Berlin.json'])\n",
    "berlin_df_abnb.head()"
   ]
  },
  {
   "cell_type": "markdown",
   "id": "ed5d64cc",
   "metadata": {},
   "source": [
    "#### Booking.com"
   ]
  },
  {
   "cell_type": "code",
   "execution_count": 5,
   "id": "dbb71fb7",
   "metadata": {},
   "outputs": [],
   "source": [
    "# created a function to open json files and then store them into a dictionary\n",
    "def file_opener_book(files):\n",
    "    data_dict = {}\n",
    "\n",
    "    for file in files:\n",
    "        # Opening JSON file\n",
    "        with open(file, encoding=\"utf8\") as f:\n",
    "            # Load JSON object as a dictionary\n",
    "            data = json.load(f)\n",
    "\n",
    "        # Store the \"airbnbHotels\" data in a list\n",
    "        file_list = [item for item in data[\"bookingHotels\"]]\n",
    "\n",
    "        # Add the list to the dictionary with the file name as the key\n",
    "        data_dict[file] = file_list\n",
    "\n",
    "    return data_dict\n",
    "\n",
    "files = ['Berlin.json', 'Paris.json', 'Rome.json', 'London.json', 'Madrid.json']\n",
    "\n",
    "result_book = file_opener_book(files)"
   ]
  },
  {
   "cell_type": "code",
   "execution_count": 6,
   "id": "c36ea0c3",
   "metadata": {},
   "outputs": [
    {
     "data": {
      "text/html": [
       "<div>\n",
       "<style scoped>\n",
       "    .dataframe tbody tr th:only-of-type {\n",
       "        vertical-align: middle;\n",
       "    }\n",
       "\n",
       "    .dataframe tbody tr th {\n",
       "        vertical-align: top;\n",
       "    }\n",
       "\n",
       "    .dataframe thead th {\n",
       "        text-align: right;\n",
       "    }\n",
       "</style>\n",
       "<table border=\"1\" class=\"dataframe\">\n",
       "  <thead>\n",
       "    <tr style=\"text-align: right;\">\n",
       "      <th></th>\n",
       "      <th>thumbnail</th>\n",
       "      <th>title</th>\n",
       "      <th>stars</th>\n",
       "      <th>preferredBadge</th>\n",
       "      <th>promotedBadge</th>\n",
       "      <th>location</th>\n",
       "      <th>subwayAccess</th>\n",
       "      <th>sustainability</th>\n",
       "      <th>distanceFromCenter</th>\n",
       "      <th>highlights</th>\n",
       "      <th>price</th>\n",
       "      <th>rating</th>\n",
       "      <th>link</th>\n",
       "    </tr>\n",
       "  </thead>\n",
       "  <tbody>\n",
       "    <tr>\n",
       "      <th>0</th>\n",
       "      <td>https://cf.bstatic.com/xdata/images/hotel/squa...</td>\n",
       "      <td>Scandic Berlin Kurfürstendamm</td>\n",
       "      <td>NaN</td>\n",
       "      <td>True</td>\n",
       "      <td>True</td>\n",
       "      <td>Charlottenburg-Wilmersdorf, Berlin</td>\n",
       "      <td>True</td>\n",
       "      <td>Travel Sustainable property</td>\n",
       "      <td>3.2</td>\n",
       "      <td>[Standard Double Room, Beds: 1 double or 2 twi...</td>\n",
       "      <td>{'currency': 'US$', 'value': 111, 'taxesAndCha...</td>\n",
       "      <td>{'score': 8.1, 'scoreDescription': 'Very Good'...</td>\n",
       "      <td>https://www.booking.com/hotel/de/scandic-kurfu...</td>\n",
       "    </tr>\n",
       "    <tr>\n",
       "      <th>1</th>\n",
       "      <td>https://cf.bstatic.com/xdata/images/hotel/squa...</td>\n",
       "      <td>Hotel Karlshorst</td>\n",
       "      <td>3.0</td>\n",
       "      <td>False</td>\n",
       "      <td>False</td>\n",
       "      <td>Lichtenberg, Berlin</td>\n",
       "      <td>False</td>\n",
       "      <td>NaN</td>\n",
       "      <td>10.7</td>\n",
       "      <td>[Comfort Double Room, Beds: 1 double or 2 twin...</td>\n",
       "      <td>{'currency': 'US$', 'value': 68, 'taxesAndChar...</td>\n",
       "      <td>{'score': 6.8, 'scoreDescription': 'Review sco...</td>\n",
       "      <td>https://www.booking.com/hotel/de/thang-long-re...</td>\n",
       "    </tr>\n",
       "    <tr>\n",
       "      <th>2</th>\n",
       "      <td>https://cf.bstatic.com/xdata/images/hotel/squa...</td>\n",
       "      <td>Jugendherberge Berlin Ostkreuz</td>\n",
       "      <td>3.0</td>\n",
       "      <td>False</td>\n",
       "      <td>False</td>\n",
       "      <td>Lichtenberg, Berlin</td>\n",
       "      <td>False</td>\n",
       "      <td>NaN</td>\n",
       "      <td>6.5</td>\n",
       "      <td>[Triple Room, 3 beds (1 twin, 2 bunk beds)]</td>\n",
       "      <td>{'currency': 'US$', 'value': 104, 'taxesAndCha...</td>\n",
       "      <td>{'score': 8.4, 'scoreDescription': 'Very Good'...</td>\n",
       "      <td>https://www.booking.com/hotel/de/jugendherberg...</td>\n",
       "    </tr>\n",
       "    <tr>\n",
       "      <th>3</th>\n",
       "      <td>https://cf.bstatic.com/xdata/images/hotel/squa...</td>\n",
       "      <td>Hollywood Media Hotel am Kurfürstendamm</td>\n",
       "      <td>4.0</td>\n",
       "      <td>True</td>\n",
       "      <td>False</td>\n",
       "      <td>Charlottenburg-Wilmersdorf, Berlin</td>\n",
       "      <td>True</td>\n",
       "      <td>Travel Sustainable property</td>\n",
       "      <td>4.1</td>\n",
       "      <td>[Standard Double or Twin Room, Beds: 1 double ...</td>\n",
       "      <td>{'currency': 'US$', 'value': 100, 'taxesAndCha...</td>\n",
       "      <td>{'score': 8.3, 'scoreDescription': 'Very Good'...</td>\n",
       "      <td>https://www.booking.com/hotel/de/hollywood-med...</td>\n",
       "    </tr>\n",
       "    <tr>\n",
       "      <th>4</th>\n",
       "      <td>https://cf.bstatic.com/xdata/images/hotel/squa...</td>\n",
       "      <td>Meliá Berlin</td>\n",
       "      <td>4.0</td>\n",
       "      <td>True</td>\n",
       "      <td>True</td>\n",
       "      <td>Mitte, Berlin</td>\n",
       "      <td>True</td>\n",
       "      <td>Travel Sustainable property</td>\n",
       "      <td>1.0</td>\n",
       "      <td>[Melia Room, Multiple bed types, Only 1 room l...</td>\n",
       "      <td>{'currency': 'US$', 'value': 135, 'taxesAndCha...</td>\n",
       "      <td>{'score': 8.3, 'scoreDescription': 'Very Good'...</td>\n",
       "      <td>https://www.booking.com/hotel/de/melia-berlin....</td>\n",
       "    </tr>\n",
       "  </tbody>\n",
       "</table>\n",
       "</div>"
      ],
      "text/plain": [
       "                                           thumbnail  \\\n",
       "0  https://cf.bstatic.com/xdata/images/hotel/squa...   \n",
       "1  https://cf.bstatic.com/xdata/images/hotel/squa...   \n",
       "2  https://cf.bstatic.com/xdata/images/hotel/squa...   \n",
       "3  https://cf.bstatic.com/xdata/images/hotel/squa...   \n",
       "4  https://cf.bstatic.com/xdata/images/hotel/squa...   \n",
       "\n",
       "                                     title  stars  preferredBadge  \\\n",
       "0            Scandic Berlin Kurfürstendamm    NaN            True   \n",
       "1                         Hotel Karlshorst    3.0           False   \n",
       "2           Jugendherberge Berlin Ostkreuz    3.0           False   \n",
       "3  Hollywood Media Hotel am Kurfürstendamm    4.0            True   \n",
       "4                             Meliá Berlin    4.0            True   \n",
       "\n",
       "   promotedBadge                            location  subwayAccess  \\\n",
       "0           True  Charlottenburg-Wilmersdorf, Berlin          True   \n",
       "1          False                 Lichtenberg, Berlin         False   \n",
       "2          False                 Lichtenberg, Berlin         False   \n",
       "3          False  Charlottenburg-Wilmersdorf, Berlin          True   \n",
       "4           True                       Mitte, Berlin          True   \n",
       "\n",
       "                sustainability  distanceFromCenter  \\\n",
       "0  Travel Sustainable property                 3.2   \n",
       "1                          NaN                10.7   \n",
       "2                          NaN                 6.5   \n",
       "3  Travel Sustainable property                 4.1   \n",
       "4  Travel Sustainable property                 1.0   \n",
       "\n",
       "                                          highlights  \\\n",
       "0  [Standard Double Room, Beds: 1 double or 2 twi...   \n",
       "1  [Comfort Double Room, Beds: 1 double or 2 twin...   \n",
       "2        [Triple Room, 3 beds (1 twin, 2 bunk beds)]   \n",
       "3  [Standard Double or Twin Room, Beds: 1 double ...   \n",
       "4  [Melia Room, Multiple bed types, Only 1 room l...   \n",
       "\n",
       "                                               price  \\\n",
       "0  {'currency': 'US$', 'value': 111, 'taxesAndCha...   \n",
       "1  {'currency': 'US$', 'value': 68, 'taxesAndChar...   \n",
       "2  {'currency': 'US$', 'value': 104, 'taxesAndCha...   \n",
       "3  {'currency': 'US$', 'value': 100, 'taxesAndCha...   \n",
       "4  {'currency': 'US$', 'value': 135, 'taxesAndCha...   \n",
       "\n",
       "                                              rating  \\\n",
       "0  {'score': 8.1, 'scoreDescription': 'Very Good'...   \n",
       "1  {'score': 6.8, 'scoreDescription': 'Review sco...   \n",
       "2  {'score': 8.4, 'scoreDescription': 'Very Good'...   \n",
       "3  {'score': 8.3, 'scoreDescription': 'Very Good'...   \n",
       "4  {'score': 8.3, 'scoreDescription': 'Very Good'...   \n",
       "\n",
       "                                                link  \n",
       "0  https://www.booking.com/hotel/de/scandic-kurfu...  \n",
       "1  https://www.booking.com/hotel/de/thang-long-re...  \n",
       "2  https://www.booking.com/hotel/de/jugendherberg...  \n",
       "3  https://www.booking.com/hotel/de/hollywood-med...  \n",
       "4  https://www.booking.com/hotel/de/melia-berlin....  "
      ]
     },
     "execution_count": 6,
     "metadata": {},
     "output_type": "execute_result"
    }
   ],
   "source": [
    "berlin_df_book = pd.DataFrame(result_book['Berlin.json'])\n",
    "berlin_df_book.head()"
   ]
  },
  {
   "cell_type": "markdown",
   "id": "e84f1e8b",
   "metadata": {},
   "source": [
    "#### Hotels.com"
   ]
  },
  {
   "cell_type": "code",
   "execution_count": 7,
   "id": "3edb866b",
   "metadata": {},
   "outputs": [],
   "source": [
    "# created a function to open json files and then store them into a dictionary\n",
    "def file_opener_com(files):\n",
    "    data_dict = {}\n",
    "\n",
    "    for file in files:\n",
    "        # Opening JSON file\n",
    "        with open(file, encoding=\"utf8\") as f:\n",
    "            # Load JSON object as a dictionary\n",
    "            data = json.load(f)\n",
    "\n",
    "        # Store the \"airbnbHotels\" data in a list\n",
    "        file_list = [item for item in data[\"hotelsComHotels\"]]\n",
    "\n",
    "        # Add the list to the dictionary with the file name as the key\n",
    "        data_dict[file] = file_list\n",
    "\n",
    "    return data_dict\n",
    "\n",
    "files = ['Berlin.json', 'Paris.json', 'Rome.json', 'London.json', 'Madrid.json']\n",
    "\n",
    "result_com = file_opener_com(files)"
   ]
  },
  {
   "cell_type": "code",
   "execution_count": 8,
   "id": "e84d90b3",
   "metadata": {},
   "outputs": [
    {
     "data": {
      "text/html": [
       "<div>\n",
       "<style scoped>\n",
       "    .dataframe tbody tr th:only-of-type {\n",
       "        vertical-align: middle;\n",
       "    }\n",
       "\n",
       "    .dataframe tbody tr th {\n",
       "        vertical-align: top;\n",
       "    }\n",
       "\n",
       "    .dataframe thead th {\n",
       "        text-align: right;\n",
       "    }\n",
       "</style>\n",
       "<table border=\"1\" class=\"dataframe\">\n",
       "  <thead>\n",
       "    <tr style=\"text-align: right;\">\n",
       "      <th></th>\n",
       "      <th>title</th>\n",
       "      <th>isAd</th>\n",
       "      <th>location</th>\n",
       "      <th>snippet</th>\n",
       "      <th>paymentOptions</th>\n",
       "      <th>highlightedAmenities</th>\n",
       "      <th>price</th>\n",
       "      <th>rating</th>\n",
       "      <th>link</th>\n",
       "    </tr>\n",
       "  </thead>\n",
       "  <tbody>\n",
       "    <tr>\n",
       "      <th>0</th>\n",
       "      <td>Moxy Berlin Ostbahnhof</td>\n",
       "      <td>True</td>\n",
       "      <td>Friedrichshain</td>\n",
       "      <td>{'title': 'Lifestyle Hotel close to Ostbahnhof...</td>\n",
       "      <td>[]</td>\n",
       "      <td>[]</td>\n",
       "      <td>{'currency': '$', 'value': 107, 'withTaxesAndC...</td>\n",
       "      <td>{'score': 8.8, 'reviews': 596}</td>\n",
       "      <td>https://www.hotels.com/ho497828896/moxy-berlin...</td>\n",
       "    </tr>\n",
       "    <tr>\n",
       "      <th>1</th>\n",
       "      <td>Sheraton Berlin Grand Hotel Esplanade</td>\n",
       "      <td>True</td>\n",
       "      <td>Tiergarten</td>\n",
       "      <td>{'title': 'Berlin hotel with panoramic windows...</td>\n",
       "      <td>[]</td>\n",
       "      <td>[]</td>\n",
       "      <td>{'currency': '$', 'value': 163, 'withTaxesAndC...</td>\n",
       "      <td>{'score': 8.6, 'reviews': 1000}</td>\n",
       "      <td>https://www.hotels.com/ho109823/sheraton-berli...</td>\n",
       "    </tr>\n",
       "    <tr>\n",
       "      <th>2</th>\n",
       "      <td>IntercityHotel Berlin Ostbahnhof</td>\n",
       "      <td>False</td>\n",
       "      <td>Friedrichshain</td>\n",
       "      <td>{}</td>\n",
       "      <td>[]</td>\n",
       "      <td>[]</td>\n",
       "      <td>{'currency': '$', 'value': 93, 'withTaxesAndCh...</td>\n",
       "      <td>{'score': 8.4, 'reviews': 1005}</td>\n",
       "      <td>https://www.hotels.com/ho178251/intercityhotel...</td>\n",
       "    </tr>\n",
       "    <tr>\n",
       "      <th>3</th>\n",
       "      <td>URBAN LOFT Berlin</td>\n",
       "      <td>False</td>\n",
       "      <td>Berlin</td>\n",
       "      <td>{}</td>\n",
       "      <td>[]</td>\n",
       "      <td>[]</td>\n",
       "      <td>{'currency': '$', 'value': 86, 'withTaxesAndCh...</td>\n",
       "      <td>{'score': 9, 'reviews': 154}</td>\n",
       "      <td>https://www.hotels.com/ho2505665600/urban-loft...</td>\n",
       "    </tr>\n",
       "    <tr>\n",
       "      <th>4</th>\n",
       "      <td>Dorint Kurfürstendamm Berlin</td>\n",
       "      <td>False</td>\n",
       "      <td>Berlin</td>\n",
       "      <td>{}</td>\n",
       "      <td>[Fully refundable, Reserve now, pay later]</td>\n",
       "      <td>[]</td>\n",
       "      <td>{'currency': '$', 'value': 148, 'withTaxesAndC...</td>\n",
       "      <td>{'score': 9.2, 'reviews': 1006}</td>\n",
       "      <td>https://www.hotels.com/ho185137/dorint-kurfurs...</td>\n",
       "    </tr>\n",
       "  </tbody>\n",
       "</table>\n",
       "</div>"
      ],
      "text/plain": [
       "                                   title   isAd        location  \\\n",
       "0                 Moxy Berlin Ostbahnhof   True  Friedrichshain   \n",
       "1  Sheraton Berlin Grand Hotel Esplanade   True      Tiergarten   \n",
       "2       IntercityHotel Berlin Ostbahnhof  False  Friedrichshain   \n",
       "3                      URBAN LOFT Berlin  False          Berlin   \n",
       "4           Dorint Kurfürstendamm Berlin  False          Berlin   \n",
       "\n",
       "                                             snippet  \\\n",
       "0  {'title': 'Lifestyle Hotel close to Ostbahnhof...   \n",
       "1  {'title': 'Berlin hotel with panoramic windows...   \n",
       "2                                                 {}   \n",
       "3                                                 {}   \n",
       "4                                                 {}   \n",
       "\n",
       "                               paymentOptions highlightedAmenities  \\\n",
       "0                                          []                   []   \n",
       "1                                          []                   []   \n",
       "2                                          []                   []   \n",
       "3                                          []                   []   \n",
       "4  [Fully refundable, Reserve now, pay later]                   []   \n",
       "\n",
       "                                               price  \\\n",
       "0  {'currency': '$', 'value': 107, 'withTaxesAndC...   \n",
       "1  {'currency': '$', 'value': 163, 'withTaxesAndC...   \n",
       "2  {'currency': '$', 'value': 93, 'withTaxesAndCh...   \n",
       "3  {'currency': '$', 'value': 86, 'withTaxesAndCh...   \n",
       "4  {'currency': '$', 'value': 148, 'withTaxesAndC...   \n",
       "\n",
       "                            rating  \\\n",
       "0   {'score': 8.8, 'reviews': 596}   \n",
       "1  {'score': 8.6, 'reviews': 1000}   \n",
       "2  {'score': 8.4, 'reviews': 1005}   \n",
       "3     {'score': 9, 'reviews': 154}   \n",
       "4  {'score': 9.2, 'reviews': 1006}   \n",
       "\n",
       "                                                link  \n",
       "0  https://www.hotels.com/ho497828896/moxy-berlin...  \n",
       "1  https://www.hotels.com/ho109823/sheraton-berli...  \n",
       "2  https://www.hotels.com/ho178251/intercityhotel...  \n",
       "3  https://www.hotels.com/ho2505665600/urban-loft...  \n",
       "4  https://www.hotels.com/ho185137/dorint-kurfurs...  "
      ]
     },
     "execution_count": 8,
     "metadata": {},
     "output_type": "execute_result"
    }
   ],
   "source": [
    "berlin_df_com = pd.DataFrame(result_com['Berlin.json'])\n",
    "berlin_df_com.head()"
   ]
  },
  {
   "cell_type": "markdown",
   "id": "38f4f125",
   "metadata": {},
   "source": [
    "#### Compare heading names"
   ]
  },
  {
   "cell_type": "code",
   "execution_count": 9,
   "id": "4766c4df",
   "metadata": {},
   "outputs": [
    {
     "name": "stdout",
     "output_type": "stream",
     "text": [
      "Column Comparison:\n",
      "\n",
      "Columns in Hotels.com Data:\n",
      "['title', 'isAd', 'location', 'snippet', 'paymentOptions', 'highlightedAmenities', 'price', 'rating', 'link']\n",
      "\n",
      "Columns in Booking.com Data:\n",
      "['thumbnail', 'title', 'stars', 'preferredBadge', 'promotedBadge', 'location', 'subwayAccess', 'sustainability', 'distanceFromCenter', 'highlights', 'price', 'rating', 'link']\n",
      "\n",
      "Columns in Airbnb Data:\n",
      "['thumbnail', 'title', 'subtitles', 'price', 'rating', 'link']\n"
     ]
    }
   ],
   "source": [
    "hotel_columns = berlin_df_com.columns\n",
    "book_columns = berlin_df_book.columns\n",
    "abnb_columns = berlin_df_abnb.columns\n",
    "\n",
    "hot_col_list = []\n",
    "for column in hotel_columns:\n",
    "    hot_col_list.append(column)\n",
    "\n",
    "book_col_list = []\n",
    "for column in book_columns:\n",
    "    book_col_list.append(column)\n",
    "    \n",
    "\n",
    "abnb_col_list = []\n",
    "for column in abnb_columns:\n",
    "    abnb_col_list.append(column)\n",
    "print(\"Column Comparison:\")\n",
    "print()\n",
    "print(\"Columns in Hotels.com Data:\")\n",
    "print(hot_col_list)\n",
    "print()\n",
    "print(\"Columns in Booking.com Data:\")\n",
    "print(book_col_list)\n",
    "print()\n",
    "print(\"Columns in Airbnb Data:\")\n",
    "print(abnb_col_list)"
   ]
  },
  {
   "cell_type": "markdown",
   "id": "550fe671",
   "metadata": {},
   "source": [
    "### Create the other dataframes"
   ]
  },
  {
   "cell_type": "code",
   "execution_count": 10,
   "id": "0d9a551d",
   "metadata": {},
   "outputs": [],
   "source": [
    "# Rome\n",
    "rome_df_com = pd.DataFrame(result_com['Rome.json'])\n",
    "rome_df_book = pd.DataFrame(result_book['Rome.json'])\n",
    "rome_df_abnb = pd.DataFrame(result_abnb['Rome.json'])\n",
    "\n",
    "# Madrid\n",
    "madrid_df_com = pd.DataFrame(result_com['Madrid.json'])\n",
    "madrid_df_book = pd.DataFrame(result_book['Madrid.json'])\n",
    "madrid_df_abnb = pd.DataFrame(result_abnb['Madrid.json'])\n",
    "\n",
    "# Paris\n",
    "paris_df_com = pd.DataFrame(result_com['Paris.json'])\n",
    "paris_df_book = pd.DataFrame(result_book['Paris.json'])\n",
    "paris_df_abnb = pd.DataFrame(result_abnb['Paris.json'])\n",
    "\n",
    "# London\n",
    "london_df_com = pd.DataFrame(result_com['London.json'])\n",
    "london_df_book = pd.DataFrame(result_book['London.json'])\n",
    "london_df_abnb = pd.DataFrame(result_abnb['London.json'])"
   ]
  },
  {
   "cell_type": "markdown",
   "id": "ee06019f",
   "metadata": {},
   "source": [
    "### Add a 'City' column"
   ]
  },
  {
   "cell_type": "code",
   "execution_count": 11,
   "id": "4623223b",
   "metadata": {},
   "outputs": [],
   "source": [
    "# add the city name for each before we join\n",
    "\n",
    "# London\n",
    "london_df_abnb = london_df_abnb.assign(city = 'London')\n",
    "london_df_book = london_df_book.assign(city = 'London')\n",
    "london_df_com = london_df_com.assign(city = 'London')\n",
    "\n",
    "# Paris\n",
    "paris_df_abnb = paris_df_abnb.assign(city = 'Paris')\n",
    "paris_df_book = paris_df_book.assign(city = 'Paris')\n",
    "paris_df_com = paris_df_com.assign(city = 'Paris')\n",
    "\n",
    "# Berlin\n",
    "berlin_df_abnb = berlin_df_abnb.assign(city = 'Berlin')\n",
    "berlin_df_book = berlin_df_book.assign(city = 'Berlin')\n",
    "berlin_df_com = berlin_df_com.assign(city = 'Berlin')\n",
    "\n",
    "# Rome\n",
    "rome_df_abnb = rome_df_abnb.assign(city = 'Rome')\n",
    "rome_df_book = rome_df_book.assign(city = 'Rome')\n",
    "rome_df_com = rome_df_com.assign(city = 'Rome')\n",
    "\n",
    "# Madrid\n",
    "madrid_df_abnb = madrid_df_abnb.assign(city = 'Madrid')\n",
    "madrid_df_book = madrid_df_book.assign(city = 'Madrid')\n",
    "madrid_df_com = madrid_df_com.assign(city = 'Madrid')"
   ]
  },
  {
   "cell_type": "markdown",
   "id": "63747105",
   "metadata": {},
   "source": [
    "### Create a seperate dataframes for the different sites"
   ]
  },
  {
   "cell_type": "markdown",
   "id": "c94d3954",
   "metadata": {},
   "source": [
    "#### Booking.com"
   ]
  },
  {
   "cell_type": "code",
   "execution_count": 12,
   "id": "72808752",
   "metadata": {},
   "outputs": [
    {
     "data": {
      "text/html": [
       "<div>\n",
       "<style scoped>\n",
       "    .dataframe tbody tr th:only-of-type {\n",
       "        vertical-align: middle;\n",
       "    }\n",
       "\n",
       "    .dataframe tbody tr th {\n",
       "        vertical-align: top;\n",
       "    }\n",
       "\n",
       "    .dataframe thead th {\n",
       "        text-align: right;\n",
       "    }\n",
       "</style>\n",
       "<table border=\"1\" class=\"dataframe\">\n",
       "  <thead>\n",
       "    <tr style=\"text-align: right;\">\n",
       "      <th></th>\n",
       "      <th>thumbnail</th>\n",
       "      <th>title</th>\n",
       "      <th>stars</th>\n",
       "      <th>preferredBadge</th>\n",
       "      <th>promotedBadge</th>\n",
       "      <th>location</th>\n",
       "      <th>subwayAccess</th>\n",
       "      <th>sustainability</th>\n",
       "      <th>distanceFromCenter</th>\n",
       "      <th>highlights</th>\n",
       "      <th>price</th>\n",
       "      <th>rating</th>\n",
       "      <th>link</th>\n",
       "      <th>city</th>\n",
       "    </tr>\n",
       "  </thead>\n",
       "  <tbody>\n",
       "    <tr>\n",
       "      <th>0</th>\n",
       "      <td>https://cf.bstatic.com/xdata/images/hotel/squa...</td>\n",
       "      <td>Scandic Berlin Kurfürstendamm</td>\n",
       "      <td>NaN</td>\n",
       "      <td>True</td>\n",
       "      <td>True</td>\n",
       "      <td>Charlottenburg-Wilmersdorf, Berlin</td>\n",
       "      <td>True</td>\n",
       "      <td>Travel Sustainable property</td>\n",
       "      <td>3.2</td>\n",
       "      <td>[Standard Double Room, Beds: 1 double or 2 twi...</td>\n",
       "      <td>{'currency': 'US$', 'value': 111, 'taxesAndCha...</td>\n",
       "      <td>{'score': 8.1, 'scoreDescription': 'Very Good'...</td>\n",
       "      <td>https://www.booking.com/hotel/de/scandic-kurfu...</td>\n",
       "      <td>Berlin</td>\n",
       "    </tr>\n",
       "    <tr>\n",
       "      <th>1</th>\n",
       "      <td>https://cf.bstatic.com/xdata/images/hotel/squa...</td>\n",
       "      <td>Hotel Karlshorst</td>\n",
       "      <td>3.0</td>\n",
       "      <td>False</td>\n",
       "      <td>False</td>\n",
       "      <td>Lichtenberg, Berlin</td>\n",
       "      <td>False</td>\n",
       "      <td>NaN</td>\n",
       "      <td>10.7</td>\n",
       "      <td>[Comfort Double Room, Beds: 1 double or 2 twin...</td>\n",
       "      <td>{'currency': 'US$', 'value': 68, 'taxesAndChar...</td>\n",
       "      <td>{'score': 6.8, 'scoreDescription': 'Review sco...</td>\n",
       "      <td>https://www.booking.com/hotel/de/thang-long-re...</td>\n",
       "      <td>Berlin</td>\n",
       "    </tr>\n",
       "    <tr>\n",
       "      <th>2</th>\n",
       "      <td>https://cf.bstatic.com/xdata/images/hotel/squa...</td>\n",
       "      <td>Jugendherberge Berlin Ostkreuz</td>\n",
       "      <td>3.0</td>\n",
       "      <td>False</td>\n",
       "      <td>False</td>\n",
       "      <td>Lichtenberg, Berlin</td>\n",
       "      <td>False</td>\n",
       "      <td>NaN</td>\n",
       "      <td>6.5</td>\n",
       "      <td>[Triple Room, 3 beds (1 twin, 2 bunk beds)]</td>\n",
       "      <td>{'currency': 'US$', 'value': 104, 'taxesAndCha...</td>\n",
       "      <td>{'score': 8.4, 'scoreDescription': 'Very Good'...</td>\n",
       "      <td>https://www.booking.com/hotel/de/jugendherberg...</td>\n",
       "      <td>Berlin</td>\n",
       "    </tr>\n",
       "    <tr>\n",
       "      <th>3</th>\n",
       "      <td>https://cf.bstatic.com/xdata/images/hotel/squa...</td>\n",
       "      <td>Hollywood Media Hotel am Kurfürstendamm</td>\n",
       "      <td>4.0</td>\n",
       "      <td>True</td>\n",
       "      <td>False</td>\n",
       "      <td>Charlottenburg-Wilmersdorf, Berlin</td>\n",
       "      <td>True</td>\n",
       "      <td>Travel Sustainable property</td>\n",
       "      <td>4.1</td>\n",
       "      <td>[Standard Double or Twin Room, Beds: 1 double ...</td>\n",
       "      <td>{'currency': 'US$', 'value': 100, 'taxesAndCha...</td>\n",
       "      <td>{'score': 8.3, 'scoreDescription': 'Very Good'...</td>\n",
       "      <td>https://www.booking.com/hotel/de/hollywood-med...</td>\n",
       "      <td>Berlin</td>\n",
       "    </tr>\n",
       "    <tr>\n",
       "      <th>4</th>\n",
       "      <td>https://cf.bstatic.com/xdata/images/hotel/squa...</td>\n",
       "      <td>Meliá Berlin</td>\n",
       "      <td>4.0</td>\n",
       "      <td>True</td>\n",
       "      <td>True</td>\n",
       "      <td>Mitte, Berlin</td>\n",
       "      <td>True</td>\n",
       "      <td>Travel Sustainable property</td>\n",
       "      <td>1.0</td>\n",
       "      <td>[Melia Room, Multiple bed types, Only 1 room l...</td>\n",
       "      <td>{'currency': 'US$', 'value': 135, 'taxesAndCha...</td>\n",
       "      <td>{'score': 8.3, 'scoreDescription': 'Very Good'...</td>\n",
       "      <td>https://www.booking.com/hotel/de/melia-berlin....</td>\n",
       "      <td>Berlin</td>\n",
       "    </tr>\n",
       "  </tbody>\n",
       "</table>\n",
       "</div>"
      ],
      "text/plain": [
       "                                           thumbnail  \\\n",
       "0  https://cf.bstatic.com/xdata/images/hotel/squa...   \n",
       "1  https://cf.bstatic.com/xdata/images/hotel/squa...   \n",
       "2  https://cf.bstatic.com/xdata/images/hotel/squa...   \n",
       "3  https://cf.bstatic.com/xdata/images/hotel/squa...   \n",
       "4  https://cf.bstatic.com/xdata/images/hotel/squa...   \n",
       "\n",
       "                                     title  stars  preferredBadge  \\\n",
       "0            Scandic Berlin Kurfürstendamm    NaN            True   \n",
       "1                         Hotel Karlshorst    3.0           False   \n",
       "2           Jugendherberge Berlin Ostkreuz    3.0           False   \n",
       "3  Hollywood Media Hotel am Kurfürstendamm    4.0            True   \n",
       "4                             Meliá Berlin    4.0            True   \n",
       "\n",
       "   promotedBadge                            location  subwayAccess  \\\n",
       "0           True  Charlottenburg-Wilmersdorf, Berlin          True   \n",
       "1          False                 Lichtenberg, Berlin         False   \n",
       "2          False                 Lichtenberg, Berlin         False   \n",
       "3          False  Charlottenburg-Wilmersdorf, Berlin          True   \n",
       "4           True                       Mitte, Berlin          True   \n",
       "\n",
       "                sustainability  distanceFromCenter  \\\n",
       "0  Travel Sustainable property                 3.2   \n",
       "1                          NaN                10.7   \n",
       "2                          NaN                 6.5   \n",
       "3  Travel Sustainable property                 4.1   \n",
       "4  Travel Sustainable property                 1.0   \n",
       "\n",
       "                                          highlights  \\\n",
       "0  [Standard Double Room, Beds: 1 double or 2 twi...   \n",
       "1  [Comfort Double Room, Beds: 1 double or 2 twin...   \n",
       "2        [Triple Room, 3 beds (1 twin, 2 bunk beds)]   \n",
       "3  [Standard Double or Twin Room, Beds: 1 double ...   \n",
       "4  [Melia Room, Multiple bed types, Only 1 room l...   \n",
       "\n",
       "                                               price  \\\n",
       "0  {'currency': 'US$', 'value': 111, 'taxesAndCha...   \n",
       "1  {'currency': 'US$', 'value': 68, 'taxesAndChar...   \n",
       "2  {'currency': 'US$', 'value': 104, 'taxesAndCha...   \n",
       "3  {'currency': 'US$', 'value': 100, 'taxesAndCha...   \n",
       "4  {'currency': 'US$', 'value': 135, 'taxesAndCha...   \n",
       "\n",
       "                                              rating  \\\n",
       "0  {'score': 8.1, 'scoreDescription': 'Very Good'...   \n",
       "1  {'score': 6.8, 'scoreDescription': 'Review sco...   \n",
       "2  {'score': 8.4, 'scoreDescription': 'Very Good'...   \n",
       "3  {'score': 8.3, 'scoreDescription': 'Very Good'...   \n",
       "4  {'score': 8.3, 'scoreDescription': 'Very Good'...   \n",
       "\n",
       "                                                link    city  \n",
       "0  https://www.booking.com/hotel/de/scandic-kurfu...  Berlin  \n",
       "1  https://www.booking.com/hotel/de/thang-long-re...  Berlin  \n",
       "2  https://www.booking.com/hotel/de/jugendherberg...  Berlin  \n",
       "3  https://www.booking.com/hotel/de/hollywood-med...  Berlin  \n",
       "4  https://www.booking.com/hotel/de/melia-berlin....  Berlin  "
      ]
     },
     "execution_count": 12,
     "metadata": {},
     "output_type": "execute_result"
    }
   ],
   "source": [
    "booking_df = pd.concat([berlin_df_book, paris_df_book, london_df_book, rome_df_book, madrid_df_book], ignore_index=True)\n",
    "booking_df.head()"
   ]
  },
  {
   "cell_type": "code",
   "execution_count": 13,
   "id": "6823e2a5",
   "metadata": {},
   "outputs": [
    {
     "name": "stdout",
     "output_type": "stream",
     "text": [
      "Initial Shape of Booking.com Dataframe:\n",
      "\n",
      "(2208, 14)\n"
     ]
    }
   ],
   "source": [
    "print('Initial Shape of Booking.com Dataframe:\\n')\n",
    "print(booking_df.shape)"
   ]
  },
  {
   "cell_type": "markdown",
   "id": "3dc4073a",
   "metadata": {},
   "source": [
    "##### Create new columns for price and rating"
   ]
  },
  {
   "cell_type": "code",
   "execution_count": 14,
   "id": "d744b352",
   "metadata": {},
   "outputs": [
    {
     "data": {
      "text/html": [
       "<div>\n",
       "<style scoped>\n",
       "    .dataframe tbody tr th:only-of-type {\n",
       "        vertical-align: middle;\n",
       "    }\n",
       "\n",
       "    .dataframe tbody tr th {\n",
       "        vertical-align: top;\n",
       "    }\n",
       "\n",
       "    .dataframe thead th {\n",
       "        text-align: right;\n",
       "    }\n",
       "</style>\n",
       "<table border=\"1\" class=\"dataframe\">\n",
       "  <thead>\n",
       "    <tr style=\"text-align: right;\">\n",
       "      <th></th>\n",
       "      <th>thumbnail</th>\n",
       "      <th>title</th>\n",
       "      <th>stars</th>\n",
       "      <th>preferredBadge</th>\n",
       "      <th>promotedBadge</th>\n",
       "      <th>location</th>\n",
       "      <th>subwayAccess</th>\n",
       "      <th>sustainability</th>\n",
       "      <th>distanceFromCenter</th>\n",
       "      <th>highlights</th>\n",
       "      <th>price</th>\n",
       "      <th>rating</th>\n",
       "      <th>link</th>\n",
       "      <th>city</th>\n",
       "      <th>price_value</th>\n",
       "      <th>rating_score</th>\n",
       "    </tr>\n",
       "  </thead>\n",
       "  <tbody>\n",
       "    <tr>\n",
       "      <th>0</th>\n",
       "      <td>https://cf.bstatic.com/xdata/images/hotel/squa...</td>\n",
       "      <td>Scandic Berlin Kurfürstendamm</td>\n",
       "      <td>NaN</td>\n",
       "      <td>True</td>\n",
       "      <td>True</td>\n",
       "      <td>Charlottenburg-Wilmersdorf, Berlin</td>\n",
       "      <td>True</td>\n",
       "      <td>Travel Sustainable property</td>\n",
       "      <td>3.2</td>\n",
       "      <td>[Standard Double Room, Beds: 1 double or 2 twi...</td>\n",
       "      <td>{'currency': 'US$', 'value': 111, 'taxesAndCha...</td>\n",
       "      <td>{'score': 8.1, 'scoreDescription': 'Very Good'...</td>\n",
       "      <td>https://www.booking.com/hotel/de/scandic-kurfu...</td>\n",
       "      <td>Berlin</td>\n",
       "      <td>111</td>\n",
       "      <td>8.1</td>\n",
       "    </tr>\n",
       "    <tr>\n",
       "      <th>1</th>\n",
       "      <td>https://cf.bstatic.com/xdata/images/hotel/squa...</td>\n",
       "      <td>Hotel Karlshorst</td>\n",
       "      <td>3.0</td>\n",
       "      <td>False</td>\n",
       "      <td>False</td>\n",
       "      <td>Lichtenberg, Berlin</td>\n",
       "      <td>False</td>\n",
       "      <td>NaN</td>\n",
       "      <td>10.7</td>\n",
       "      <td>[Comfort Double Room, Beds: 1 double or 2 twin...</td>\n",
       "      <td>{'currency': 'US$', 'value': 68, 'taxesAndChar...</td>\n",
       "      <td>{'score': 6.8, 'scoreDescription': 'Review sco...</td>\n",
       "      <td>https://www.booking.com/hotel/de/thang-long-re...</td>\n",
       "      <td>Berlin</td>\n",
       "      <td>68</td>\n",
       "      <td>6.8</td>\n",
       "    </tr>\n",
       "    <tr>\n",
       "      <th>2</th>\n",
       "      <td>https://cf.bstatic.com/xdata/images/hotel/squa...</td>\n",
       "      <td>Jugendherberge Berlin Ostkreuz</td>\n",
       "      <td>3.0</td>\n",
       "      <td>False</td>\n",
       "      <td>False</td>\n",
       "      <td>Lichtenberg, Berlin</td>\n",
       "      <td>False</td>\n",
       "      <td>NaN</td>\n",
       "      <td>6.5</td>\n",
       "      <td>[Triple Room, 3 beds (1 twin, 2 bunk beds)]</td>\n",
       "      <td>{'currency': 'US$', 'value': 104, 'taxesAndCha...</td>\n",
       "      <td>{'score': 8.4, 'scoreDescription': 'Very Good'...</td>\n",
       "      <td>https://www.booking.com/hotel/de/jugendherberg...</td>\n",
       "      <td>Berlin</td>\n",
       "      <td>104</td>\n",
       "      <td>8.4</td>\n",
       "    </tr>\n",
       "    <tr>\n",
       "      <th>3</th>\n",
       "      <td>https://cf.bstatic.com/xdata/images/hotel/squa...</td>\n",
       "      <td>Hollywood Media Hotel am Kurfürstendamm</td>\n",
       "      <td>4.0</td>\n",
       "      <td>True</td>\n",
       "      <td>False</td>\n",
       "      <td>Charlottenburg-Wilmersdorf, Berlin</td>\n",
       "      <td>True</td>\n",
       "      <td>Travel Sustainable property</td>\n",
       "      <td>4.1</td>\n",
       "      <td>[Standard Double or Twin Room, Beds: 1 double ...</td>\n",
       "      <td>{'currency': 'US$', 'value': 100, 'taxesAndCha...</td>\n",
       "      <td>{'score': 8.3, 'scoreDescription': 'Very Good'...</td>\n",
       "      <td>https://www.booking.com/hotel/de/hollywood-med...</td>\n",
       "      <td>Berlin</td>\n",
       "      <td>100</td>\n",
       "      <td>8.3</td>\n",
       "    </tr>\n",
       "    <tr>\n",
       "      <th>4</th>\n",
       "      <td>https://cf.bstatic.com/xdata/images/hotel/squa...</td>\n",
       "      <td>Meliá Berlin</td>\n",
       "      <td>4.0</td>\n",
       "      <td>True</td>\n",
       "      <td>True</td>\n",
       "      <td>Mitte, Berlin</td>\n",
       "      <td>True</td>\n",
       "      <td>Travel Sustainable property</td>\n",
       "      <td>1.0</td>\n",
       "      <td>[Melia Room, Multiple bed types, Only 1 room l...</td>\n",
       "      <td>{'currency': 'US$', 'value': 135, 'taxesAndCha...</td>\n",
       "      <td>{'score': 8.3, 'scoreDescription': 'Very Good'...</td>\n",
       "      <td>https://www.booking.com/hotel/de/melia-berlin....</td>\n",
       "      <td>Berlin</td>\n",
       "      <td>135</td>\n",
       "      <td>8.3</td>\n",
       "    </tr>\n",
       "  </tbody>\n",
       "</table>\n",
       "</div>"
      ],
      "text/plain": [
       "                                           thumbnail  \\\n",
       "0  https://cf.bstatic.com/xdata/images/hotel/squa...   \n",
       "1  https://cf.bstatic.com/xdata/images/hotel/squa...   \n",
       "2  https://cf.bstatic.com/xdata/images/hotel/squa...   \n",
       "3  https://cf.bstatic.com/xdata/images/hotel/squa...   \n",
       "4  https://cf.bstatic.com/xdata/images/hotel/squa...   \n",
       "\n",
       "                                     title  stars  preferredBadge  \\\n",
       "0            Scandic Berlin Kurfürstendamm    NaN            True   \n",
       "1                         Hotel Karlshorst    3.0           False   \n",
       "2           Jugendherberge Berlin Ostkreuz    3.0           False   \n",
       "3  Hollywood Media Hotel am Kurfürstendamm    4.0            True   \n",
       "4                             Meliá Berlin    4.0            True   \n",
       "\n",
       "   promotedBadge                            location  subwayAccess  \\\n",
       "0           True  Charlottenburg-Wilmersdorf, Berlin          True   \n",
       "1          False                 Lichtenberg, Berlin         False   \n",
       "2          False                 Lichtenberg, Berlin         False   \n",
       "3          False  Charlottenburg-Wilmersdorf, Berlin          True   \n",
       "4           True                       Mitte, Berlin          True   \n",
       "\n",
       "                sustainability  distanceFromCenter  \\\n",
       "0  Travel Sustainable property                 3.2   \n",
       "1                          NaN                10.7   \n",
       "2                          NaN                 6.5   \n",
       "3  Travel Sustainable property                 4.1   \n",
       "4  Travel Sustainable property                 1.0   \n",
       "\n",
       "                                          highlights  \\\n",
       "0  [Standard Double Room, Beds: 1 double or 2 twi...   \n",
       "1  [Comfort Double Room, Beds: 1 double or 2 twin...   \n",
       "2        [Triple Room, 3 beds (1 twin, 2 bunk beds)]   \n",
       "3  [Standard Double or Twin Room, Beds: 1 double ...   \n",
       "4  [Melia Room, Multiple bed types, Only 1 room l...   \n",
       "\n",
       "                                               price  \\\n",
       "0  {'currency': 'US$', 'value': 111, 'taxesAndCha...   \n",
       "1  {'currency': 'US$', 'value': 68, 'taxesAndChar...   \n",
       "2  {'currency': 'US$', 'value': 104, 'taxesAndCha...   \n",
       "3  {'currency': 'US$', 'value': 100, 'taxesAndCha...   \n",
       "4  {'currency': 'US$', 'value': 135, 'taxesAndCha...   \n",
       "\n",
       "                                              rating  \\\n",
       "0  {'score': 8.1, 'scoreDescription': 'Very Good'...   \n",
       "1  {'score': 6.8, 'scoreDescription': 'Review sco...   \n",
       "2  {'score': 8.4, 'scoreDescription': 'Very Good'...   \n",
       "3  {'score': 8.3, 'scoreDescription': 'Very Good'...   \n",
       "4  {'score': 8.3, 'scoreDescription': 'Very Good'...   \n",
       "\n",
       "                                                link    city  price_value  \\\n",
       "0  https://www.booking.com/hotel/de/scandic-kurfu...  Berlin          111   \n",
       "1  https://www.booking.com/hotel/de/thang-long-re...  Berlin           68   \n",
       "2  https://www.booking.com/hotel/de/jugendherberg...  Berlin          104   \n",
       "3  https://www.booking.com/hotel/de/hollywood-med...  Berlin          100   \n",
       "4  https://www.booking.com/hotel/de/melia-berlin....  Berlin          135   \n",
       "\n",
       "  rating_score  \n",
       "0          8.1  \n",
       "1          6.8  \n",
       "2          8.4  \n",
       "3          8.3  \n",
       "4          8.3  "
      ]
     },
     "execution_count": 14,
     "metadata": {},
     "output_type": "execute_result"
    }
   ],
   "source": [
    "# Create copy of df\n",
    "new_booking_df = booking_df.copy()\n",
    "# Take the price value from the price column into a new column called price_value\n",
    "new_booking_df['price_value'] = new_booking_df['price'].apply(lambda x: x['value'])\n",
    "\n",
    "# Take the rating value from the rating column into a new column called rating_score\n",
    "new_booking_df['rating_score'] = new_booking_df['rating'].apply(lambda x: x['score'])\n",
    "\n",
    "new_booking_df.head()"
   ]
  },
  {
   "cell_type": "markdown",
   "id": "03ce79d5",
   "metadata": {},
   "source": [
    "##### Create a new dataframe by removing columns"
   ]
  },
  {
   "cell_type": "code",
   "execution_count": 15,
   "id": "1566fe50",
   "metadata": {},
   "outputs": [
    {
     "data": {
      "text/html": [
       "<div>\n",
       "<style scoped>\n",
       "    .dataframe tbody tr th:only-of-type {\n",
       "        vertical-align: middle;\n",
       "    }\n",
       "\n",
       "    .dataframe tbody tr th {\n",
       "        vertical-align: top;\n",
       "    }\n",
       "\n",
       "    .dataframe thead th {\n",
       "        text-align: right;\n",
       "    }\n",
       "</style>\n",
       "<table border=\"1\" class=\"dataframe\">\n",
       "  <thead>\n",
       "    <tr style=\"text-align: right;\">\n",
       "      <th></th>\n",
       "      <th>city</th>\n",
       "      <th>price_value</th>\n",
       "      <th>rating_score</th>\n",
       "    </tr>\n",
       "  </thead>\n",
       "  <tbody>\n",
       "    <tr>\n",
       "      <th>0</th>\n",
       "      <td>Berlin</td>\n",
       "      <td>111</td>\n",
       "      <td>8.1</td>\n",
       "    </tr>\n",
       "    <tr>\n",
       "      <th>1</th>\n",
       "      <td>Berlin</td>\n",
       "      <td>68</td>\n",
       "      <td>6.8</td>\n",
       "    </tr>\n",
       "    <tr>\n",
       "      <th>2</th>\n",
       "      <td>Berlin</td>\n",
       "      <td>104</td>\n",
       "      <td>8.4</td>\n",
       "    </tr>\n",
       "    <tr>\n",
       "      <th>3</th>\n",
       "      <td>Berlin</td>\n",
       "      <td>100</td>\n",
       "      <td>8.3</td>\n",
       "    </tr>\n",
       "    <tr>\n",
       "      <th>4</th>\n",
       "      <td>Berlin</td>\n",
       "      <td>135</td>\n",
       "      <td>8.3</td>\n",
       "    </tr>\n",
       "  </tbody>\n",
       "</table>\n",
       "</div>"
      ],
      "text/plain": [
       "     city  price_value rating_score\n",
       "0  Berlin          111          8.1\n",
       "1  Berlin           68          6.8\n",
       "2  Berlin          104          8.4\n",
       "3  Berlin          100          8.3\n",
       "4  Berlin          135          8.3"
      ]
     },
     "execution_count": 15,
     "metadata": {},
     "output_type": "execute_result"
    }
   ],
   "source": [
    "# Drop irrelevant columns\n",
    "merge_booking_df = new_booking_df.drop(columns = ['thumbnail','title','stars','distanceFromCenter', 'preferredBadge','promotedBadge','location',\n",
    "                                                    'subwayAccess','sustainability','highlights','price','rating','link'])\n",
    "merge_booking_df.head()"
   ]
  },
  {
   "cell_type": "markdown",
   "id": "fb549b20",
   "metadata": {},
   "source": [
    "##### Check values in columns, remove Nan values, change data types"
   ]
  },
  {
   "cell_type": "code",
   "execution_count": 16,
   "id": "3948443c",
   "metadata": {},
   "outputs": [
    {
     "name": "stdout",
     "output_type": "stream",
     "text": [
      "Data types of the columns in Booking.com Table:\n",
      "\n",
      "price_value: int64\n",
      "rating_score: object\n"
     ]
    }
   ],
   "source": [
    "# Check if there are any non-numeric values\n",
    "book_price_value_dtype = merge_booking_df['price_value'].dtype\n",
    "book_rating_score_dtype = merge_booking_df['rating_score'].dtype\n",
    "\n",
    "print('Data types of the columns in Booking.com Table:\\n')\n",
    "print(f'price_value: {book_price_value_dtype}\\nrating_score: {book_rating_score_dtype}')"
   ]
  },
  {
   "cell_type": "code",
   "execution_count": 17,
   "id": "cc298425",
   "metadata": {},
   "outputs": [
    {
     "name": "stdout",
     "output_type": "stream",
     "text": [
      "[8.1 6.8 8.4 8.3 7.9 8.7 7.1 7.4 7.2 8.2 8 7.5 7.7 8.5 7.6 6.9 7.8 8.8 5.4\n",
      " 7 8.6 6.5 7.3 6.7 5.9 6.3 9 3.9 6.1 5.2 5.8 6.2 6.4 9.2 5.6 6.6 9.1 5.3\n",
      " 8.9 5.7 'No rating' 9.5 6 9.3 5.1 4.1 4.4 4.7 5.5 4.2 3.2 4.9 3.8 5 10\n",
      " 3.7 4.3 4.6 9.4 9.7 9.6 9.8 3.3 4 4.8]\n"
     ]
    }
   ],
   "source": [
    "# Further inspect rating_score\n",
    "book_rate_values = merge_booking_df['rating_score'].unique()\n",
    "print(book_rate_values)"
   ]
  },
  {
   "cell_type": "code",
   "execution_count": 18,
   "id": "5e6914d7",
   "metadata": {},
   "outputs": [
    {
     "data": {
      "text/plain": [
       "dtype('float64')"
      ]
     },
     "execution_count": 18,
     "metadata": {},
     "output_type": "execute_result"
    }
   ],
   "source": [
    "# Replace non-numeric values as well as values above 10 to NaN\n",
    "merge_booking_df['rating_score'] = merge_booking_df['rating_score'].replace('No rating',np.nan)\n",
    "merge_booking_df['rating_score'] = pd.to_numeric(merge_booking_df['rating_score'])\n",
    "\n",
    "# Re-check\n",
    "merge_booking_df['rating_score'].dtype"
   ]
  },
  {
   "cell_type": "code",
   "execution_count": 19,
   "id": "7d0ad9a4",
   "metadata": {},
   "outputs": [
    {
     "name": "stdout",
     "output_type": "stream",
     "text": [
      "Missing values count:\n",
      "city             0\n",
      "price_value      0\n",
      "rating_score    35\n",
      "dtype: int64\n"
     ]
    }
   ],
   "source": [
    "# Check the amount of misssing values\n",
    "missing_values_booking = merge_booking_df.isna().sum()\n",
    "\n",
    "print(\"Missing values count:\")\n",
    "print(missing_values_booking)"
   ]
  },
  {
   "cell_type": "code",
   "execution_count": 20,
   "id": "7ffea22d",
   "metadata": {},
   "outputs": [
    {
     "name": "stdout",
     "output_type": "stream",
     "text": [
      "Change in Shape of Booking.com Data from Cleaning:\n",
      "\n",
      "Initial Data Shape:(2208, 14)\n",
      "Final Data Shape:(2173, 4)\n"
     ]
    }
   ],
   "source": [
    "# Drop NaN values\n",
    "merge_booking_df = merge_booking_df.dropna()\n",
    "# Add a site name column\n",
    "merge_booking_df['site'] = 'Booking.com'\n",
    "# Check new data shapes\n",
    "book_final_shape = merge_booking_df.shape\n",
    "book_initial_shape = booking_df.shape\n",
    "\n",
    "print('Change in Shape of Booking.com Data from Cleaning:\\n')\n",
    "print(f'Initial Data Shape:{book_initial_shape}\\nFinal Data Shape:{book_final_shape}')"
   ]
  },
  {
   "cell_type": "code",
   "execution_count": 21,
   "id": "3360d917",
   "metadata": {},
   "outputs": [
    {
     "data": {
      "text/html": [
       "<div>\n",
       "<style scoped>\n",
       "    .dataframe tbody tr th:only-of-type {\n",
       "        vertical-align: middle;\n",
       "    }\n",
       "\n",
       "    .dataframe tbody tr th {\n",
       "        vertical-align: top;\n",
       "    }\n",
       "\n",
       "    .dataframe thead th {\n",
       "        text-align: right;\n",
       "    }\n",
       "</style>\n",
       "<table border=\"1\" class=\"dataframe\">\n",
       "  <thead>\n",
       "    <tr style=\"text-align: right;\">\n",
       "      <th></th>\n",
       "      <th>city</th>\n",
       "      <th>price_value</th>\n",
       "      <th>rating_score</th>\n",
       "      <th>site</th>\n",
       "    </tr>\n",
       "  </thead>\n",
       "  <tbody>\n",
       "    <tr>\n",
       "      <th>0</th>\n",
       "      <td>Berlin</td>\n",
       "      <td>111</td>\n",
       "      <td>8.1</td>\n",
       "      <td>Booking.com</td>\n",
       "    </tr>\n",
       "    <tr>\n",
       "      <th>1</th>\n",
       "      <td>Berlin</td>\n",
       "      <td>68</td>\n",
       "      <td>6.8</td>\n",
       "      <td>Booking.com</td>\n",
       "    </tr>\n",
       "    <tr>\n",
       "      <th>2</th>\n",
       "      <td>Berlin</td>\n",
       "      <td>104</td>\n",
       "      <td>8.4</td>\n",
       "      <td>Booking.com</td>\n",
       "    </tr>\n",
       "    <tr>\n",
       "      <th>3</th>\n",
       "      <td>Berlin</td>\n",
       "      <td>100</td>\n",
       "      <td>8.3</td>\n",
       "      <td>Booking.com</td>\n",
       "    </tr>\n",
       "    <tr>\n",
       "      <th>4</th>\n",
       "      <td>Berlin</td>\n",
       "      <td>135</td>\n",
       "      <td>8.3</td>\n",
       "      <td>Booking.com</td>\n",
       "    </tr>\n",
       "  </tbody>\n",
       "</table>\n",
       "</div>"
      ],
      "text/plain": [
       "     city  price_value  rating_score         site\n",
       "0  Berlin          111           8.1  Booking.com\n",
       "1  Berlin           68           6.8  Booking.com\n",
       "2  Berlin          104           8.4  Booking.com\n",
       "3  Berlin          100           8.3  Booking.com\n",
       "4  Berlin          135           8.3  Booking.com"
      ]
     },
     "execution_count": 21,
     "metadata": {},
     "output_type": "execute_result"
    }
   ],
   "source": [
    "merge_booking_df.head()"
   ]
  },
  {
   "cell_type": "markdown",
   "id": "82277a17",
   "metadata": {},
   "source": [
    "#### Air BnB"
   ]
  },
  {
   "cell_type": "code",
   "execution_count": 22,
   "id": "ba76a048",
   "metadata": {},
   "outputs": [
    {
     "data": {
      "text/html": [
       "<div>\n",
       "<style scoped>\n",
       "    .dataframe tbody tr th:only-of-type {\n",
       "        vertical-align: middle;\n",
       "    }\n",
       "\n",
       "    .dataframe tbody tr th {\n",
       "        vertical-align: top;\n",
       "    }\n",
       "\n",
       "    .dataframe thead th {\n",
       "        text-align: right;\n",
       "    }\n",
       "</style>\n",
       "<table border=\"1\" class=\"dataframe\">\n",
       "  <thead>\n",
       "    <tr style=\"text-align: right;\">\n",
       "      <th></th>\n",
       "      <th>thumbnail</th>\n",
       "      <th>title</th>\n",
       "      <th>subtitles</th>\n",
       "      <th>price</th>\n",
       "      <th>rating</th>\n",
       "      <th>link</th>\n",
       "      <th>city</th>\n",
       "    </tr>\n",
       "  </thead>\n",
       "  <tbody>\n",
       "    <tr>\n",
       "      <th>0</th>\n",
       "      <td>https://a0.muscache.com/im/pictures/miso/Hosti...</td>\n",
       "      <td>Private room in Tempelhof</td>\n",
       "      <td>[Privatzimmer in Tempelhofer Feld, 1 bed, Jul ...</td>\n",
       "      <td>{'currency': '$', 'value': 31, 'period': 'night'}</td>\n",
       "      <td>5</td>\n",
       "      <td>https://www.airbnb.com/rooms/647664199858827562</td>\n",
       "      <td>Berlin</td>\n",
       "    </tr>\n",
       "    <tr>\n",
       "      <th>1</th>\n",
       "      <td>https://a0.muscache.com/im/pictures/b9cb8b8c-5...</td>\n",
       "      <td>Private room in Mitte</td>\n",
       "      <td>[Tiny, individual Room with private Bathroom, ...</td>\n",
       "      <td>{'currency': '$', 'value': 40, 'period': 'night'}</td>\n",
       "      <td>4.96</td>\n",
       "      <td>https://www.airbnb.com/rooms/41220512</td>\n",
       "      <td>Berlin</td>\n",
       "    </tr>\n",
       "    <tr>\n",
       "      <th>2</th>\n",
       "      <td>https://a0.muscache.com/im/pictures/miso/Hosti...</td>\n",
       "      <td>Hotel room in Prenzlauer Berg</td>\n",
       "      <td>[Serviced Apartment - Studio in Prenzlauer Ber...</td>\n",
       "      <td>{'currency': '$', 'value': 108, 'period': 'nig...</td>\n",
       "      <td>4.69</td>\n",
       "      <td>https://www.airbnb.com/rooms/30881310</td>\n",
       "      <td>Berlin</td>\n",
       "    </tr>\n",
       "    <tr>\n",
       "      <th>3</th>\n",
       "      <td>https://a0.muscache.com/im/pictures/63522495/a...</td>\n",
       "      <td>Private room in Lichtenberg</td>\n",
       "      <td>[City East perfectly located, 1 king bed, Jul ...</td>\n",
       "      <td>{'currency': '$', 'value': 34, 'period': 'night'}</td>\n",
       "      <td>4.89</td>\n",
       "      <td>https://www.airbnb.com/rooms/2591901</td>\n",
       "      <td>Berlin</td>\n",
       "    </tr>\n",
       "    <tr>\n",
       "      <th>4</th>\n",
       "      <td>https://a0.muscache.com/im/pictures/miso/Hosti...</td>\n",
       "      <td>Private room in Charlottenburg-Wilmersdorf</td>\n",
       "      <td>[Musical place next to Bundesplatz (U9 &amp; S-Rin...</td>\n",
       "      <td>{'currency': '$', 'value': 71, 'period': 'night'}</td>\n",
       "      <td>4.87</td>\n",
       "      <td>https://www.airbnb.com/rooms/19075304</td>\n",
       "      <td>Berlin</td>\n",
       "    </tr>\n",
       "  </tbody>\n",
       "</table>\n",
       "</div>"
      ],
      "text/plain": [
       "                                           thumbnail  \\\n",
       "0  https://a0.muscache.com/im/pictures/miso/Hosti...   \n",
       "1  https://a0.muscache.com/im/pictures/b9cb8b8c-5...   \n",
       "2  https://a0.muscache.com/im/pictures/miso/Hosti...   \n",
       "3  https://a0.muscache.com/im/pictures/63522495/a...   \n",
       "4  https://a0.muscache.com/im/pictures/miso/Hosti...   \n",
       "\n",
       "                                        title  \\\n",
       "0                   Private room in Tempelhof   \n",
       "1                       Private room in Mitte   \n",
       "2               Hotel room in Prenzlauer Berg   \n",
       "3                 Private room in Lichtenberg   \n",
       "4  Private room in Charlottenburg-Wilmersdorf   \n",
       "\n",
       "                                           subtitles  \\\n",
       "0  [Privatzimmer in Tempelhofer Feld, 1 bed, Jul ...   \n",
       "1  [Tiny, individual Room with private Bathroom, ...   \n",
       "2  [Serviced Apartment - Studio in Prenzlauer Ber...   \n",
       "3  [City East perfectly located, 1 king bed, Jul ...   \n",
       "4  [Musical place next to Bundesplatz (U9 & S-Rin...   \n",
       "\n",
       "                                               price rating  \\\n",
       "0  {'currency': '$', 'value': 31, 'period': 'night'}      5   \n",
       "1  {'currency': '$', 'value': 40, 'period': 'night'}   4.96   \n",
       "2  {'currency': '$', 'value': 108, 'period': 'nig...   4.69   \n",
       "3  {'currency': '$', 'value': 34, 'period': 'night'}   4.89   \n",
       "4  {'currency': '$', 'value': 71, 'period': 'night'}   4.87   \n",
       "\n",
       "                                              link    city  \n",
       "0  https://www.airbnb.com/rooms/647664199858827562  Berlin  \n",
       "1            https://www.airbnb.com/rooms/41220512  Berlin  \n",
       "2            https://www.airbnb.com/rooms/30881310  Berlin  \n",
       "3             https://www.airbnb.com/rooms/2591901  Berlin  \n",
       "4            https://www.airbnb.com/rooms/19075304  Berlin  "
      ]
     },
     "execution_count": 22,
     "metadata": {},
     "output_type": "execute_result"
    }
   ],
   "source": [
    "abnb_df = pd.concat([berlin_df_abnb, paris_df_abnb, london_df_abnb, rome_df_abnb, madrid_df_abnb], ignore_index=True)\n",
    "abnb_df.head()"
   ]
  },
  {
   "cell_type": "code",
   "execution_count": 23,
   "id": "3d2fb551",
   "metadata": {},
   "outputs": [
    {
     "name": "stdout",
     "output_type": "stream",
     "text": [
      "Initial Shape of AirBnB Dataframe:\n",
      "(1350, 7)\n"
     ]
    }
   ],
   "source": [
    "print('Initial Shape of AirBnB Dataframe:')\n",
    "print(abnb_df.shape)"
   ]
  },
  {
   "cell_type": "markdown",
   "id": "a6ed6e8b",
   "metadata": {},
   "source": [
    "##### Create new columns for price, rating and date"
   ]
  },
  {
   "cell_type": "code",
   "execution_count": 24,
   "id": "55697aa1",
   "metadata": {},
   "outputs": [
    {
     "data": {
      "text/html": [
       "<div>\n",
       "<style scoped>\n",
       "    .dataframe tbody tr th:only-of-type {\n",
       "        vertical-align: middle;\n",
       "    }\n",
       "\n",
       "    .dataframe tbody tr th {\n",
       "        vertical-align: top;\n",
       "    }\n",
       "\n",
       "    .dataframe thead th {\n",
       "        text-align: right;\n",
       "    }\n",
       "</style>\n",
       "<table border=\"1\" class=\"dataframe\">\n",
       "  <thead>\n",
       "    <tr style=\"text-align: right;\">\n",
       "      <th></th>\n",
       "      <th>thumbnail</th>\n",
       "      <th>title</th>\n",
       "      <th>subtitles</th>\n",
       "      <th>price</th>\n",
       "      <th>rating</th>\n",
       "      <th>link</th>\n",
       "      <th>city</th>\n",
       "      <th>price_value</th>\n",
       "      <th>rating_score</th>\n",
       "    </tr>\n",
       "  </thead>\n",
       "  <tbody>\n",
       "    <tr>\n",
       "      <th>0</th>\n",
       "      <td>https://a0.muscache.com/im/pictures/miso/Hosti...</td>\n",
       "      <td>Private room in Tempelhof</td>\n",
       "      <td>[Privatzimmer in Tempelhofer Feld, 1 bed, Jul ...</td>\n",
       "      <td>{'currency': '$', 'value': 31, 'period': 'night'}</td>\n",
       "      <td>5</td>\n",
       "      <td>https://www.airbnb.com/rooms/647664199858827562</td>\n",
       "      <td>Berlin</td>\n",
       "      <td>31</td>\n",
       "      <td>10</td>\n",
       "    </tr>\n",
       "    <tr>\n",
       "      <th>1</th>\n",
       "      <td>https://a0.muscache.com/im/pictures/b9cb8b8c-5...</td>\n",
       "      <td>Private room in Mitte</td>\n",
       "      <td>[Tiny, individual Room with private Bathroom, ...</td>\n",
       "      <td>{'currency': '$', 'value': 40, 'period': 'night'}</td>\n",
       "      <td>4.96</td>\n",
       "      <td>https://www.airbnb.com/rooms/41220512</td>\n",
       "      <td>Berlin</td>\n",
       "      <td>40</td>\n",
       "      <td>9.92</td>\n",
       "    </tr>\n",
       "    <tr>\n",
       "      <th>2</th>\n",
       "      <td>https://a0.muscache.com/im/pictures/miso/Hosti...</td>\n",
       "      <td>Hotel room in Prenzlauer Berg</td>\n",
       "      <td>[Serviced Apartment - Studio in Prenzlauer Ber...</td>\n",
       "      <td>{'currency': '$', 'value': 108, 'period': 'nig...</td>\n",
       "      <td>4.69</td>\n",
       "      <td>https://www.airbnb.com/rooms/30881310</td>\n",
       "      <td>Berlin</td>\n",
       "      <td>108</td>\n",
       "      <td>9.38</td>\n",
       "    </tr>\n",
       "    <tr>\n",
       "      <th>3</th>\n",
       "      <td>https://a0.muscache.com/im/pictures/63522495/a...</td>\n",
       "      <td>Private room in Lichtenberg</td>\n",
       "      <td>[City East perfectly located, 1 king bed, Jul ...</td>\n",
       "      <td>{'currency': '$', 'value': 34, 'period': 'night'}</td>\n",
       "      <td>4.89</td>\n",
       "      <td>https://www.airbnb.com/rooms/2591901</td>\n",
       "      <td>Berlin</td>\n",
       "      <td>34</td>\n",
       "      <td>9.78</td>\n",
       "    </tr>\n",
       "    <tr>\n",
       "      <th>4</th>\n",
       "      <td>https://a0.muscache.com/im/pictures/miso/Hosti...</td>\n",
       "      <td>Private room in Charlottenburg-Wilmersdorf</td>\n",
       "      <td>[Musical place next to Bundesplatz (U9 &amp; S-Rin...</td>\n",
       "      <td>{'currency': '$', 'value': 71, 'period': 'night'}</td>\n",
       "      <td>4.87</td>\n",
       "      <td>https://www.airbnb.com/rooms/19075304</td>\n",
       "      <td>Berlin</td>\n",
       "      <td>71</td>\n",
       "      <td>9.74</td>\n",
       "    </tr>\n",
       "  </tbody>\n",
       "</table>\n",
       "</div>"
      ],
      "text/plain": [
       "                                           thumbnail  \\\n",
       "0  https://a0.muscache.com/im/pictures/miso/Hosti...   \n",
       "1  https://a0.muscache.com/im/pictures/b9cb8b8c-5...   \n",
       "2  https://a0.muscache.com/im/pictures/miso/Hosti...   \n",
       "3  https://a0.muscache.com/im/pictures/63522495/a...   \n",
       "4  https://a0.muscache.com/im/pictures/miso/Hosti...   \n",
       "\n",
       "                                        title  \\\n",
       "0                   Private room in Tempelhof   \n",
       "1                       Private room in Mitte   \n",
       "2               Hotel room in Prenzlauer Berg   \n",
       "3                 Private room in Lichtenberg   \n",
       "4  Private room in Charlottenburg-Wilmersdorf   \n",
       "\n",
       "                                           subtitles  \\\n",
       "0  [Privatzimmer in Tempelhofer Feld, 1 bed, Jul ...   \n",
       "1  [Tiny, individual Room with private Bathroom, ...   \n",
       "2  [Serviced Apartment - Studio in Prenzlauer Ber...   \n",
       "3  [City East perfectly located, 1 king bed, Jul ...   \n",
       "4  [Musical place next to Bundesplatz (U9 & S-Rin...   \n",
       "\n",
       "                                               price rating  \\\n",
       "0  {'currency': '$', 'value': 31, 'period': 'night'}      5   \n",
       "1  {'currency': '$', 'value': 40, 'period': 'night'}   4.96   \n",
       "2  {'currency': '$', 'value': 108, 'period': 'nig...   4.69   \n",
       "3  {'currency': '$', 'value': 34, 'period': 'night'}   4.89   \n",
       "4  {'currency': '$', 'value': 71, 'period': 'night'}   4.87   \n",
       "\n",
       "                                              link    city  price_value  \\\n",
       "0  https://www.airbnb.com/rooms/647664199858827562  Berlin           31   \n",
       "1            https://www.airbnb.com/rooms/41220512  Berlin           40   \n",
       "2            https://www.airbnb.com/rooms/30881310  Berlin          108   \n",
       "3             https://www.airbnb.com/rooms/2591901  Berlin           34   \n",
       "4            https://www.airbnb.com/rooms/19075304  Berlin           71   \n",
       "\n",
       "  rating_score  \n",
       "0           10  \n",
       "1         9.92  \n",
       "2         9.38  \n",
       "3         9.78  \n",
       "4         9.74  "
      ]
     },
     "execution_count": 24,
     "metadata": {},
     "output_type": "execute_result"
    }
   ],
   "source": [
    "# Create a copy\n",
    "new_abnb_df = abnb_df.copy()\n",
    "\n",
    "# Take the price value from the price column into a new column called price_value\n",
    "new_abnb_df['price_value'] = new_abnb_df['price'].apply(lambda x: x['value'])\n",
    "\n",
    "# Change rating to out of 10 by multiplying by 2\n",
    "new_abnb_df['rating_score'] = new_abnb_df['rating']*2\n",
    "\n",
    "new_abnb_df.head()"
   ]
  },
  {
   "cell_type": "markdown",
   "id": "d55f896c",
   "metadata": {},
   "source": [
    "##### Create a new dataframe by removing columns"
   ]
  },
  {
   "cell_type": "code",
   "execution_count": 25,
   "id": "38119f8c",
   "metadata": {},
   "outputs": [
    {
     "data": {
      "text/html": [
       "<div>\n",
       "<style scoped>\n",
       "    .dataframe tbody tr th:only-of-type {\n",
       "        vertical-align: middle;\n",
       "    }\n",
       "\n",
       "    .dataframe tbody tr th {\n",
       "        vertical-align: top;\n",
       "    }\n",
       "\n",
       "    .dataframe thead th {\n",
       "        text-align: right;\n",
       "    }\n",
       "</style>\n",
       "<table border=\"1\" class=\"dataframe\">\n",
       "  <thead>\n",
       "    <tr style=\"text-align: right;\">\n",
       "      <th></th>\n",
       "      <th>city</th>\n",
       "      <th>price_value</th>\n",
       "      <th>rating_score</th>\n",
       "    </tr>\n",
       "  </thead>\n",
       "  <tbody>\n",
       "    <tr>\n",
       "      <th>0</th>\n",
       "      <td>Berlin</td>\n",
       "      <td>31</td>\n",
       "      <td>10</td>\n",
       "    </tr>\n",
       "    <tr>\n",
       "      <th>1</th>\n",
       "      <td>Berlin</td>\n",
       "      <td>40</td>\n",
       "      <td>9.92</td>\n",
       "    </tr>\n",
       "    <tr>\n",
       "      <th>2</th>\n",
       "      <td>Berlin</td>\n",
       "      <td>108</td>\n",
       "      <td>9.38</td>\n",
       "    </tr>\n",
       "    <tr>\n",
       "      <th>3</th>\n",
       "      <td>Berlin</td>\n",
       "      <td>34</td>\n",
       "      <td>9.78</td>\n",
       "    </tr>\n",
       "    <tr>\n",
       "      <th>4</th>\n",
       "      <td>Berlin</td>\n",
       "      <td>71</td>\n",
       "      <td>9.74</td>\n",
       "    </tr>\n",
       "  </tbody>\n",
       "</table>\n",
       "</div>"
      ],
      "text/plain": [
       "     city  price_value rating_score\n",
       "0  Berlin           31           10\n",
       "1  Berlin           40         9.92\n",
       "2  Berlin          108         9.38\n",
       "3  Berlin           34         9.78\n",
       "4  Berlin           71         9.74"
      ]
     },
     "execution_count": 25,
     "metadata": {},
     "output_type": "execute_result"
    }
   ],
   "source": [
    "# Drop irrelevant columns\n",
    "merge_abnb_df = new_abnb_df.drop(columns=['thumbnail','title','subtitles','price','rating','link'])\n",
    "merge_abnb_df.head()"
   ]
  },
  {
   "cell_type": "markdown",
   "id": "05129f14",
   "metadata": {},
   "source": [
    "##### Check values in columns, remove Nan values, change data types"
   ]
  },
  {
   "cell_type": "code",
   "execution_count": 26,
   "id": "f5f7fd54",
   "metadata": {},
   "outputs": [
    {
     "name": "stdout",
     "output_type": "stream",
     "text": [
      "Data types of the columns in AirBnB Table:\n",
      "\n",
      "price_value: int64\n",
      "rating_score: object\n"
     ]
    }
   ],
   "source": [
    "# Check if there are any non-numeric values\n",
    "abnb_price_value_dtype = merge_abnb_df['price_value'].dtype\n",
    "abnb_rating_score_dtype = merge_abnb_df['rating_score'].dtype\n",
    "\n",
    "print('Data types of the columns in AirBnB Table:\\n')\n",
    "print(f'price_value: {abnb_price_value_dtype}\\nrating_score: {abnb_rating_score_dtype}')"
   ]
  },
  {
   "cell_type": "code",
   "execution_count": 27,
   "id": "e3a5a050",
   "metadata": {},
   "outputs": [
    {
     "name": "stdout",
     "output_type": "stream",
     "text": [
      "[10 9.92 9.38 9.78 9.74 9.94 9.34 9.28 9.64 9.82 'No ratingNo rating' 9.48\n",
      " 8.8 9.8 9.62 9.7 8.94 9.76 9.9 9.5 9.86 9.88 9.68 9.08 8.38 9.6 9.14 9.22\n",
      " 9.42 9.32 9.0 9.84 8.88 8.64 9.66 9.56 8.5 9.72 9.3 9.06 8.76 9.58 8.6\n",
      " 8.66 8 9.46 8.68 9.96 8.9 9.12 9.44 8.1 9.54 8.84 9.4 9.36 8.78 9.24 8.82\n",
      " 9.26 8.54 8.7 8.42 9.02 8.26 8.92 8.56 9.2 8.28 9.52 9.18 9.1 8.96 8.72\n",
      " 8.58 8.44 7.2 9.16 8.46 9.98 8.52 9.04 8.22 8.98 8.86 8.62 7.76 8.16 5.66\n",
      " 6.84 8.2 8.48 8.32 8.36 8.4 8.74]\n"
     ]
    }
   ],
   "source": [
    "# Further inspect rating_score\n",
    "abnb_rate_values = merge_abnb_df['rating_score'].unique()\n",
    "print(abnb_rate_values)"
   ]
  },
  {
   "cell_type": "code",
   "execution_count": 28,
   "id": "c8e7bed7",
   "metadata": {},
   "outputs": [],
   "source": [
    "# Replace non-numeric values as well as values above 10 to NaN\n",
    "merge_abnb_df['rating_score'] = merge_abnb_df['rating_score'].replace('No ratingNo rating',np.nan)\n",
    "merge_abnb_df['rating_score'] = pd.to_numeric(merge_abnb_df['rating_score'])"
   ]
  },
  {
   "cell_type": "code",
   "execution_count": 29,
   "id": "f240bf19",
   "metadata": {},
   "outputs": [
    {
     "data": {
      "text/plain": [
       "dtype('float64')"
      ]
     },
     "execution_count": 29,
     "metadata": {},
     "output_type": "execute_result"
    }
   ],
   "source": [
    "# Re-check data type\n",
    "merge_abnb_df['rating_score'].dtype"
   ]
  },
  {
   "cell_type": "code",
   "execution_count": 30,
   "id": "b790b6d1",
   "metadata": {},
   "outputs": [
    {
     "name": "stdout",
     "output_type": "stream",
     "text": [
      "Missing values count:\n",
      "city              0\n",
      "price_value       0\n",
      "rating_score    101\n",
      "dtype: int64\n"
     ]
    }
   ],
   "source": [
    "# Check the amount of misssing values\n",
    "missing_values_abnb = merge_abnb_df.isna().sum()\n",
    "\n",
    "print(\"Missing values count:\")\n",
    "print(missing_values_abnb)"
   ]
  },
  {
   "cell_type": "code",
   "execution_count": 31,
   "id": "0e5fdd88",
   "metadata": {},
   "outputs": [
    {
     "name": "stdout",
     "output_type": "stream",
     "text": [
      "Change in Shape of AirBnB Data from Cleaning:\n",
      "\n",
      "Initial Data Shape:(1350, 7)\n",
      "Final Data Shape:(1249, 4)\n"
     ]
    }
   ],
   "source": [
    "# Drop NaN values\n",
    "merge_abnb_df = merge_abnb_df.dropna()\n",
    "\n",
    "# Add site\n",
    "merge_abnb_df['site'] = 'AirBnB'\n",
    "\n",
    "# Check new data shapes\n",
    "abnb_final_shape = merge_abnb_df.shape\n",
    "abnb_initial_shape = abnb_df.shape\n",
    "\n",
    "print('Change in Shape of AirBnB Data from Cleaning:\\n')\n",
    "print(f'Initial Data Shape:{abnb_initial_shape}\\nFinal Data Shape:{abnb_final_shape}')"
   ]
  },
  {
   "cell_type": "code",
   "execution_count": 32,
   "id": "674332ab",
   "metadata": {
    "scrolled": true
   },
   "outputs": [
    {
     "data": {
      "text/html": [
       "<div>\n",
       "<style scoped>\n",
       "    .dataframe tbody tr th:only-of-type {\n",
       "        vertical-align: middle;\n",
       "    }\n",
       "\n",
       "    .dataframe tbody tr th {\n",
       "        vertical-align: top;\n",
       "    }\n",
       "\n",
       "    .dataframe thead th {\n",
       "        text-align: right;\n",
       "    }\n",
       "</style>\n",
       "<table border=\"1\" class=\"dataframe\">\n",
       "  <thead>\n",
       "    <tr style=\"text-align: right;\">\n",
       "      <th></th>\n",
       "      <th>city</th>\n",
       "      <th>price_value</th>\n",
       "      <th>rating_score</th>\n",
       "      <th>site</th>\n",
       "    </tr>\n",
       "  </thead>\n",
       "  <tbody>\n",
       "    <tr>\n",
       "      <th>0</th>\n",
       "      <td>Berlin</td>\n",
       "      <td>31</td>\n",
       "      <td>10.00</td>\n",
       "      <td>AirBnB</td>\n",
       "    </tr>\n",
       "    <tr>\n",
       "      <th>1</th>\n",
       "      <td>Berlin</td>\n",
       "      <td>40</td>\n",
       "      <td>9.92</td>\n",
       "      <td>AirBnB</td>\n",
       "    </tr>\n",
       "    <tr>\n",
       "      <th>2</th>\n",
       "      <td>Berlin</td>\n",
       "      <td>108</td>\n",
       "      <td>9.38</td>\n",
       "      <td>AirBnB</td>\n",
       "    </tr>\n",
       "    <tr>\n",
       "      <th>3</th>\n",
       "      <td>Berlin</td>\n",
       "      <td>34</td>\n",
       "      <td>9.78</td>\n",
       "      <td>AirBnB</td>\n",
       "    </tr>\n",
       "    <tr>\n",
       "      <th>4</th>\n",
       "      <td>Berlin</td>\n",
       "      <td>71</td>\n",
       "      <td>9.74</td>\n",
       "      <td>AirBnB</td>\n",
       "    </tr>\n",
       "  </tbody>\n",
       "</table>\n",
       "</div>"
      ],
      "text/plain": [
       "     city  price_value  rating_score    site\n",
       "0  Berlin           31         10.00  AirBnB\n",
       "1  Berlin           40          9.92  AirBnB\n",
       "2  Berlin          108          9.38  AirBnB\n",
       "3  Berlin           34          9.78  AirBnB\n",
       "4  Berlin           71          9.74  AirBnB"
      ]
     },
     "execution_count": 32,
     "metadata": {},
     "output_type": "execute_result"
    }
   ],
   "source": [
    "merge_abnb_df.head()"
   ]
  },
  {
   "cell_type": "markdown",
   "id": "fd86a25b",
   "metadata": {},
   "source": [
    "#### Hotels.com"
   ]
  },
  {
   "cell_type": "code",
   "execution_count": 33,
   "id": "6ef9ea84",
   "metadata": {},
   "outputs": [
    {
     "data": {
      "text/html": [
       "<div>\n",
       "<style scoped>\n",
       "    .dataframe tbody tr th:only-of-type {\n",
       "        vertical-align: middle;\n",
       "    }\n",
       "\n",
       "    .dataframe tbody tr th {\n",
       "        vertical-align: top;\n",
       "    }\n",
       "\n",
       "    .dataframe thead th {\n",
       "        text-align: right;\n",
       "    }\n",
       "</style>\n",
       "<table border=\"1\" class=\"dataframe\">\n",
       "  <thead>\n",
       "    <tr style=\"text-align: right;\">\n",
       "      <th></th>\n",
       "      <th>title</th>\n",
       "      <th>isAd</th>\n",
       "      <th>location</th>\n",
       "      <th>snippet</th>\n",
       "      <th>paymentOptions</th>\n",
       "      <th>highlightedAmenities</th>\n",
       "      <th>price</th>\n",
       "      <th>rating</th>\n",
       "      <th>link</th>\n",
       "      <th>city</th>\n",
       "    </tr>\n",
       "  </thead>\n",
       "  <tbody>\n",
       "    <tr>\n",
       "      <th>0</th>\n",
       "      <td>Moxy Berlin Ostbahnhof</td>\n",
       "      <td>True</td>\n",
       "      <td>Friedrichshain</td>\n",
       "      <td>{'title': 'Lifestyle Hotel close to Ostbahnhof...</td>\n",
       "      <td>[]</td>\n",
       "      <td>[]</td>\n",
       "      <td>{'currency': '$', 'value': 107, 'withTaxesAndC...</td>\n",
       "      <td>{'score': 8.8, 'reviews': 596}</td>\n",
       "      <td>https://www.hotels.com/ho497828896/moxy-berlin...</td>\n",
       "      <td>Berlin</td>\n",
       "    </tr>\n",
       "    <tr>\n",
       "      <th>1</th>\n",
       "      <td>Sheraton Berlin Grand Hotel Esplanade</td>\n",
       "      <td>True</td>\n",
       "      <td>Tiergarten</td>\n",
       "      <td>{'title': 'Berlin hotel with panoramic windows...</td>\n",
       "      <td>[]</td>\n",
       "      <td>[]</td>\n",
       "      <td>{'currency': '$', 'value': 163, 'withTaxesAndC...</td>\n",
       "      <td>{'score': 8.6, 'reviews': 1000}</td>\n",
       "      <td>https://www.hotels.com/ho109823/sheraton-berli...</td>\n",
       "      <td>Berlin</td>\n",
       "    </tr>\n",
       "    <tr>\n",
       "      <th>2</th>\n",
       "      <td>IntercityHotel Berlin Ostbahnhof</td>\n",
       "      <td>False</td>\n",
       "      <td>Friedrichshain</td>\n",
       "      <td>{}</td>\n",
       "      <td>[]</td>\n",
       "      <td>[]</td>\n",
       "      <td>{'currency': '$', 'value': 93, 'withTaxesAndCh...</td>\n",
       "      <td>{'score': 8.4, 'reviews': 1005}</td>\n",
       "      <td>https://www.hotels.com/ho178251/intercityhotel...</td>\n",
       "      <td>Berlin</td>\n",
       "    </tr>\n",
       "    <tr>\n",
       "      <th>3</th>\n",
       "      <td>URBAN LOFT Berlin</td>\n",
       "      <td>False</td>\n",
       "      <td>Berlin</td>\n",
       "      <td>{}</td>\n",
       "      <td>[]</td>\n",
       "      <td>[]</td>\n",
       "      <td>{'currency': '$', 'value': 86, 'withTaxesAndCh...</td>\n",
       "      <td>{'score': 9, 'reviews': 154}</td>\n",
       "      <td>https://www.hotels.com/ho2505665600/urban-loft...</td>\n",
       "      <td>Berlin</td>\n",
       "    </tr>\n",
       "    <tr>\n",
       "      <th>4</th>\n",
       "      <td>Dorint Kurfürstendamm Berlin</td>\n",
       "      <td>False</td>\n",
       "      <td>Berlin</td>\n",
       "      <td>{}</td>\n",
       "      <td>[Fully refundable, Reserve now, pay later]</td>\n",
       "      <td>[]</td>\n",
       "      <td>{'currency': '$', 'value': 148, 'withTaxesAndC...</td>\n",
       "      <td>{'score': 9.2, 'reviews': 1006}</td>\n",
       "      <td>https://www.hotels.com/ho185137/dorint-kurfurs...</td>\n",
       "      <td>Berlin</td>\n",
       "    </tr>\n",
       "  </tbody>\n",
       "</table>\n",
       "</div>"
      ],
      "text/plain": [
       "                                   title   isAd        location  \\\n",
       "0                 Moxy Berlin Ostbahnhof   True  Friedrichshain   \n",
       "1  Sheraton Berlin Grand Hotel Esplanade   True      Tiergarten   \n",
       "2       IntercityHotel Berlin Ostbahnhof  False  Friedrichshain   \n",
       "3                      URBAN LOFT Berlin  False          Berlin   \n",
       "4           Dorint Kurfürstendamm Berlin  False          Berlin   \n",
       "\n",
       "                                             snippet  \\\n",
       "0  {'title': 'Lifestyle Hotel close to Ostbahnhof...   \n",
       "1  {'title': 'Berlin hotel with panoramic windows...   \n",
       "2                                                 {}   \n",
       "3                                                 {}   \n",
       "4                                                 {}   \n",
       "\n",
       "                               paymentOptions highlightedAmenities  \\\n",
       "0                                          []                   []   \n",
       "1                                          []                   []   \n",
       "2                                          []                   []   \n",
       "3                                          []                   []   \n",
       "4  [Fully refundable, Reserve now, pay later]                   []   \n",
       "\n",
       "                                               price  \\\n",
       "0  {'currency': '$', 'value': 107, 'withTaxesAndC...   \n",
       "1  {'currency': '$', 'value': 163, 'withTaxesAndC...   \n",
       "2  {'currency': '$', 'value': 93, 'withTaxesAndCh...   \n",
       "3  {'currency': '$', 'value': 86, 'withTaxesAndCh...   \n",
       "4  {'currency': '$', 'value': 148, 'withTaxesAndC...   \n",
       "\n",
       "                            rating  \\\n",
       "0   {'score': 8.8, 'reviews': 596}   \n",
       "1  {'score': 8.6, 'reviews': 1000}   \n",
       "2  {'score': 8.4, 'reviews': 1005}   \n",
       "3     {'score': 9, 'reviews': 154}   \n",
       "4  {'score': 9.2, 'reviews': 1006}   \n",
       "\n",
       "                                                link    city  \n",
       "0  https://www.hotels.com/ho497828896/moxy-berlin...  Berlin  \n",
       "1  https://www.hotels.com/ho109823/sheraton-berli...  Berlin  \n",
       "2  https://www.hotels.com/ho178251/intercityhotel...  Berlin  \n",
       "3  https://www.hotels.com/ho2505665600/urban-loft...  Berlin  \n",
       "4  https://www.hotels.com/ho185137/dorint-kurfurs...  Berlin  "
      ]
     },
     "execution_count": 33,
     "metadata": {},
     "output_type": "execute_result"
    }
   ],
   "source": [
    "com_df = pd.concat([berlin_df_com, paris_df_com, london_df_com, rome_df_com, madrid_df_com], ignore_index=True)\n",
    "com_df.head()"
   ]
  },
  {
   "cell_type": "code",
   "execution_count": 34,
   "id": "1cec987e",
   "metadata": {},
   "outputs": [
    {
     "name": "stdout",
     "output_type": "stream",
     "text": [
      "Initial Shape of Hotels.com Dataframe:\n",
      "(2500, 10)\n"
     ]
    }
   ],
   "source": [
    "print('Initial Shape of Hotels.com Dataframe:')\n",
    "print(com_df.shape)"
   ]
  },
  {
   "cell_type": "markdown",
   "id": "8c847a08",
   "metadata": {},
   "source": [
    "##### Create new columns for price and rating"
   ]
  },
  {
   "cell_type": "code",
   "execution_count": 35,
   "id": "ea4caae3",
   "metadata": {},
   "outputs": [
    {
     "data": {
      "text/html": [
       "<div>\n",
       "<style scoped>\n",
       "    .dataframe tbody tr th:only-of-type {\n",
       "        vertical-align: middle;\n",
       "    }\n",
       "\n",
       "    .dataframe tbody tr th {\n",
       "        vertical-align: top;\n",
       "    }\n",
       "\n",
       "    .dataframe thead th {\n",
       "        text-align: right;\n",
       "    }\n",
       "</style>\n",
       "<table border=\"1\" class=\"dataframe\">\n",
       "  <thead>\n",
       "    <tr style=\"text-align: right;\">\n",
       "      <th></th>\n",
       "      <th>title</th>\n",
       "      <th>isAd</th>\n",
       "      <th>location</th>\n",
       "      <th>snippet</th>\n",
       "      <th>paymentOptions</th>\n",
       "      <th>highlightedAmenities</th>\n",
       "      <th>price</th>\n",
       "      <th>rating</th>\n",
       "      <th>link</th>\n",
       "      <th>city</th>\n",
       "      <th>price_value</th>\n",
       "      <th>rating_score</th>\n",
       "    </tr>\n",
       "  </thead>\n",
       "  <tbody>\n",
       "    <tr>\n",
       "      <th>0</th>\n",
       "      <td>Moxy Berlin Ostbahnhof</td>\n",
       "      <td>True</td>\n",
       "      <td>Friedrichshain</td>\n",
       "      <td>{'title': 'Lifestyle Hotel close to Ostbahnhof...</td>\n",
       "      <td>[]</td>\n",
       "      <td>[]</td>\n",
       "      <td>{'currency': '$', 'value': 107, 'withTaxesAndC...</td>\n",
       "      <td>{'score': 8.8, 'reviews': 596}</td>\n",
       "      <td>https://www.hotels.com/ho497828896/moxy-berlin...</td>\n",
       "      <td>Berlin</td>\n",
       "      <td>107</td>\n",
       "      <td>8.8</td>\n",
       "    </tr>\n",
       "    <tr>\n",
       "      <th>1</th>\n",
       "      <td>Sheraton Berlin Grand Hotel Esplanade</td>\n",
       "      <td>True</td>\n",
       "      <td>Tiergarten</td>\n",
       "      <td>{'title': 'Berlin hotel with panoramic windows...</td>\n",
       "      <td>[]</td>\n",
       "      <td>[]</td>\n",
       "      <td>{'currency': '$', 'value': 163, 'withTaxesAndC...</td>\n",
       "      <td>{'score': 8.6, 'reviews': 1000}</td>\n",
       "      <td>https://www.hotels.com/ho109823/sheraton-berli...</td>\n",
       "      <td>Berlin</td>\n",
       "      <td>163</td>\n",
       "      <td>8.6</td>\n",
       "    </tr>\n",
       "    <tr>\n",
       "      <th>2</th>\n",
       "      <td>IntercityHotel Berlin Ostbahnhof</td>\n",
       "      <td>False</td>\n",
       "      <td>Friedrichshain</td>\n",
       "      <td>{}</td>\n",
       "      <td>[]</td>\n",
       "      <td>[]</td>\n",
       "      <td>{'currency': '$', 'value': 93, 'withTaxesAndCh...</td>\n",
       "      <td>{'score': 8.4, 'reviews': 1005}</td>\n",
       "      <td>https://www.hotels.com/ho178251/intercityhotel...</td>\n",
       "      <td>Berlin</td>\n",
       "      <td>93</td>\n",
       "      <td>8.4</td>\n",
       "    </tr>\n",
       "    <tr>\n",
       "      <th>3</th>\n",
       "      <td>URBAN LOFT Berlin</td>\n",
       "      <td>False</td>\n",
       "      <td>Berlin</td>\n",
       "      <td>{}</td>\n",
       "      <td>[]</td>\n",
       "      <td>[]</td>\n",
       "      <td>{'currency': '$', 'value': 86, 'withTaxesAndCh...</td>\n",
       "      <td>{'score': 9, 'reviews': 154}</td>\n",
       "      <td>https://www.hotels.com/ho2505665600/urban-loft...</td>\n",
       "      <td>Berlin</td>\n",
       "      <td>86</td>\n",
       "      <td>9</td>\n",
       "    </tr>\n",
       "    <tr>\n",
       "      <th>4</th>\n",
       "      <td>Dorint Kurfürstendamm Berlin</td>\n",
       "      <td>False</td>\n",
       "      <td>Berlin</td>\n",
       "      <td>{}</td>\n",
       "      <td>[Fully refundable, Reserve now, pay later]</td>\n",
       "      <td>[]</td>\n",
       "      <td>{'currency': '$', 'value': 148, 'withTaxesAndC...</td>\n",
       "      <td>{'score': 9.2, 'reviews': 1006}</td>\n",
       "      <td>https://www.hotels.com/ho185137/dorint-kurfurs...</td>\n",
       "      <td>Berlin</td>\n",
       "      <td>148</td>\n",
       "      <td>9.2</td>\n",
       "    </tr>\n",
       "  </tbody>\n",
       "</table>\n",
       "</div>"
      ],
      "text/plain": [
       "                                   title   isAd        location  \\\n",
       "0                 Moxy Berlin Ostbahnhof   True  Friedrichshain   \n",
       "1  Sheraton Berlin Grand Hotel Esplanade   True      Tiergarten   \n",
       "2       IntercityHotel Berlin Ostbahnhof  False  Friedrichshain   \n",
       "3                      URBAN LOFT Berlin  False          Berlin   \n",
       "4           Dorint Kurfürstendamm Berlin  False          Berlin   \n",
       "\n",
       "                                             snippet  \\\n",
       "0  {'title': 'Lifestyle Hotel close to Ostbahnhof...   \n",
       "1  {'title': 'Berlin hotel with panoramic windows...   \n",
       "2                                                 {}   \n",
       "3                                                 {}   \n",
       "4                                                 {}   \n",
       "\n",
       "                               paymentOptions highlightedAmenities  \\\n",
       "0                                          []                   []   \n",
       "1                                          []                   []   \n",
       "2                                          []                   []   \n",
       "3                                          []                   []   \n",
       "4  [Fully refundable, Reserve now, pay later]                   []   \n",
       "\n",
       "                                               price  \\\n",
       "0  {'currency': '$', 'value': 107, 'withTaxesAndC...   \n",
       "1  {'currency': '$', 'value': 163, 'withTaxesAndC...   \n",
       "2  {'currency': '$', 'value': 93, 'withTaxesAndCh...   \n",
       "3  {'currency': '$', 'value': 86, 'withTaxesAndCh...   \n",
       "4  {'currency': '$', 'value': 148, 'withTaxesAndC...   \n",
       "\n",
       "                            rating  \\\n",
       "0   {'score': 8.8, 'reviews': 596}   \n",
       "1  {'score': 8.6, 'reviews': 1000}   \n",
       "2  {'score': 8.4, 'reviews': 1005}   \n",
       "3     {'score': 9, 'reviews': 154}   \n",
       "4  {'score': 9.2, 'reviews': 1006}   \n",
       "\n",
       "                                                link    city  price_value  \\\n",
       "0  https://www.hotels.com/ho497828896/moxy-berlin...  Berlin          107   \n",
       "1  https://www.hotels.com/ho109823/sheraton-berli...  Berlin          163   \n",
       "2  https://www.hotels.com/ho178251/intercityhotel...  Berlin           93   \n",
       "3  https://www.hotels.com/ho2505665600/urban-loft...  Berlin           86   \n",
       "4  https://www.hotels.com/ho185137/dorint-kurfurs...  Berlin          148   \n",
       "\n",
       "  rating_score  \n",
       "0          8.8  \n",
       "1          8.6  \n",
       "2          8.4  \n",
       "3            9  \n",
       "4          9.2  "
      ]
     },
     "execution_count": 35,
     "metadata": {},
     "output_type": "execute_result"
    }
   ],
   "source": [
    "# Create a copy\n",
    "new_com_df = com_df.copy()\n",
    "\n",
    "# Take the price value from the price column into a new column called price_value\n",
    "new_com_df['price_value'] = new_com_df['price'].apply(lambda x: x['value'])\n",
    "\n",
    "# Take the rating score from the rating column into a new column called rating_score\n",
    "new_com_df['rating_score'] = new_com_df['rating'].apply(lambda x: x['score'])\n",
    "\n",
    "new_com_df.head()"
   ]
  },
  {
   "cell_type": "markdown",
   "id": "73621bac",
   "metadata": {},
   "source": [
    "##### Create a new dataframe by removing columns"
   ]
  },
  {
   "cell_type": "code",
   "execution_count": 36,
   "id": "2d31f403",
   "metadata": {},
   "outputs": [
    {
     "data": {
      "text/html": [
       "<div>\n",
       "<style scoped>\n",
       "    .dataframe tbody tr th:only-of-type {\n",
       "        vertical-align: middle;\n",
       "    }\n",
       "\n",
       "    .dataframe tbody tr th {\n",
       "        vertical-align: top;\n",
       "    }\n",
       "\n",
       "    .dataframe thead th {\n",
       "        text-align: right;\n",
       "    }\n",
       "</style>\n",
       "<table border=\"1\" class=\"dataframe\">\n",
       "  <thead>\n",
       "    <tr style=\"text-align: right;\">\n",
       "      <th></th>\n",
       "      <th>city</th>\n",
       "      <th>price_value</th>\n",
       "      <th>rating_score</th>\n",
       "      <th>site</th>\n",
       "    </tr>\n",
       "  </thead>\n",
       "  <tbody>\n",
       "    <tr>\n",
       "      <th>0</th>\n",
       "      <td>Berlin</td>\n",
       "      <td>107</td>\n",
       "      <td>8.8</td>\n",
       "      <td>Hotels.com</td>\n",
       "    </tr>\n",
       "    <tr>\n",
       "      <th>1</th>\n",
       "      <td>Berlin</td>\n",
       "      <td>163</td>\n",
       "      <td>8.6</td>\n",
       "      <td>Hotels.com</td>\n",
       "    </tr>\n",
       "    <tr>\n",
       "      <th>2</th>\n",
       "      <td>Berlin</td>\n",
       "      <td>93</td>\n",
       "      <td>8.4</td>\n",
       "      <td>Hotels.com</td>\n",
       "    </tr>\n",
       "    <tr>\n",
       "      <th>3</th>\n",
       "      <td>Berlin</td>\n",
       "      <td>86</td>\n",
       "      <td>9</td>\n",
       "      <td>Hotels.com</td>\n",
       "    </tr>\n",
       "    <tr>\n",
       "      <th>4</th>\n",
       "      <td>Berlin</td>\n",
       "      <td>148</td>\n",
       "      <td>9.2</td>\n",
       "      <td>Hotels.com</td>\n",
       "    </tr>\n",
       "  </tbody>\n",
       "</table>\n",
       "</div>"
      ],
      "text/plain": [
       "     city  price_value rating_score        site\n",
       "0  Berlin          107          8.8  Hotels.com\n",
       "1  Berlin          163          8.6  Hotels.com\n",
       "2  Berlin           93          8.4  Hotels.com\n",
       "3  Berlin           86            9  Hotels.com\n",
       "4  Berlin          148          9.2  Hotels.com"
      ]
     },
     "execution_count": 36,
     "metadata": {},
     "output_type": "execute_result"
    }
   ],
   "source": [
    "# Drop irrelevant columns\n",
    "merge_com_df = new_com_df.drop(columns = ['title','isAd','location','snippet','paymentOptions','highlightedAmenities','price',\n",
    "                                         'rating','link'])\n",
    "merge_com_df['site'] = 'Hotels.com'\n",
    "merge_com_df.head()"
   ]
  },
  {
   "cell_type": "markdown",
   "id": "50321033",
   "metadata": {},
   "source": [
    "##### Check values in columns, remove Nan values, change data types"
   ]
  },
  {
   "cell_type": "code",
   "execution_count": 37,
   "id": "2c45cb3c",
   "metadata": {},
   "outputs": [
    {
     "name": "stdout",
     "output_type": "stream",
     "text": [
      "Data types of the columns in Hotels.com Table:\n",
      "\n",
      "price_value: int64\n",
      "rating_score: object\n"
     ]
    }
   ],
   "source": [
    "# Check if there are any non-numeric values\n",
    "com_price_value_dtype = merge_com_df['price_value'].dtype\n",
    "com_rating_score_dtype = merge_com_df['rating_score'].dtype\n",
    "\n",
    "print('Data types of the columns in Hotels.com Table:\\n')\n",
    "print(f'price_value: {com_price_value_dtype}\\nrating_score: {com_rating_score_dtype}')"
   ]
  },
  {
   "cell_type": "code",
   "execution_count": 38,
   "id": "07ed53b7",
   "metadata": {},
   "outputs": [
    {
     "name": "stdout",
     "output_type": "stream",
     "text": [
      "[8.8 8.6 8.4 9 9.2 10 7.8 7.4 8.2 9.4 9.8 8 7.2 7.6 9.6 6.4 'No rating'\n",
      " 6.8 7 6.2 5.4 6 6.6 3.6 5.2 5.8 5.6 4.4 4.6 30 4.8 5 4 11 2]\n"
     ]
    }
   ],
   "source": [
    "# Further inspect rating_score\n",
    "com_rate_values = merge_com_df['rating_score'].unique()\n",
    "print(com_rate_values)"
   ]
  },
  {
   "cell_type": "code",
   "execution_count": 39,
   "id": "e5ce9eae",
   "metadata": {},
   "outputs": [],
   "source": [
    "# Replace non-numeric values as well as values above 10 to NaN\n",
    "merge_com_df['rating_score'] = merge_com_df['rating_score'].replace('No rating',np.nan).replace(11,np.nan).replace(30,np.nan)\n",
    "merge_com_df['rating_score'] = pd.to_numeric(merge_com_df['rating_score'])"
   ]
  },
  {
   "cell_type": "code",
   "execution_count": 40,
   "id": "e47e55a4",
   "metadata": {},
   "outputs": [
    {
     "data": {
      "text/plain": [
       "dtype('float64')"
      ]
     },
     "execution_count": 40,
     "metadata": {},
     "output_type": "execute_result"
    }
   ],
   "source": [
    "# Re-check data type\n",
    "merge_com_df['rating_score'].dtype"
   ]
  },
  {
   "cell_type": "code",
   "execution_count": 41,
   "id": "551fba27",
   "metadata": {},
   "outputs": [
    {
     "name": "stdout",
     "output_type": "stream",
     "text": [
      "Missing values count:\n",
      "city             0\n",
      "price_value      0\n",
      "rating_score    30\n",
      "site             0\n",
      "dtype: int64\n"
     ]
    }
   ],
   "source": [
    "# Check the amount of misssing values\n",
    "missing_values_com = merge_com_df.isna().sum()\n",
    "\n",
    "print(\"Missing values count:\")\n",
    "print(missing_values_com)"
   ]
  },
  {
   "cell_type": "code",
   "execution_count": 42,
   "id": "41e60555",
   "metadata": {},
   "outputs": [
    {
     "name": "stdout",
     "output_type": "stream",
     "text": [
      "Result of Cleaning on Data Shape:\n",
      "\n",
      "Initial Data Shape:(2500, 10)\n",
      "Final Data Shape:(2470, 4)\n"
     ]
    }
   ],
   "source": [
    "# Drop NaN values\n",
    "merge_com_df = merge_com_df.dropna()\n",
    "\n",
    "# Check new data shapes\n",
    "com_final_shape = merge_com_df.shape\n",
    "com_initial_shape = com_df.shape\n",
    "\n",
    "print('Result of Cleaning on Data Shape:\\n')\n",
    "print(f'Initial Data Shape:{com_initial_shape}\\nFinal Data Shape:{com_final_shape}')"
   ]
  },
  {
   "cell_type": "code",
   "execution_count": 43,
   "id": "81c68fab",
   "metadata": {},
   "outputs": [
    {
     "data": {
      "text/html": [
       "<div>\n",
       "<style scoped>\n",
       "    .dataframe tbody tr th:only-of-type {\n",
       "        vertical-align: middle;\n",
       "    }\n",
       "\n",
       "    .dataframe tbody tr th {\n",
       "        vertical-align: top;\n",
       "    }\n",
       "\n",
       "    .dataframe thead th {\n",
       "        text-align: right;\n",
       "    }\n",
       "</style>\n",
       "<table border=\"1\" class=\"dataframe\">\n",
       "  <thead>\n",
       "    <tr style=\"text-align: right;\">\n",
       "      <th></th>\n",
       "      <th>city</th>\n",
       "      <th>price_value</th>\n",
       "      <th>rating_score</th>\n",
       "      <th>site</th>\n",
       "    </tr>\n",
       "  </thead>\n",
       "  <tbody>\n",
       "    <tr>\n",
       "      <th>0</th>\n",
       "      <td>Berlin</td>\n",
       "      <td>107</td>\n",
       "      <td>8.8</td>\n",
       "      <td>Hotels.com</td>\n",
       "    </tr>\n",
       "    <tr>\n",
       "      <th>1</th>\n",
       "      <td>Berlin</td>\n",
       "      <td>163</td>\n",
       "      <td>8.6</td>\n",
       "      <td>Hotels.com</td>\n",
       "    </tr>\n",
       "    <tr>\n",
       "      <th>2</th>\n",
       "      <td>Berlin</td>\n",
       "      <td>93</td>\n",
       "      <td>8.4</td>\n",
       "      <td>Hotels.com</td>\n",
       "    </tr>\n",
       "    <tr>\n",
       "      <th>3</th>\n",
       "      <td>Berlin</td>\n",
       "      <td>86</td>\n",
       "      <td>9.0</td>\n",
       "      <td>Hotels.com</td>\n",
       "    </tr>\n",
       "    <tr>\n",
       "      <th>4</th>\n",
       "      <td>Berlin</td>\n",
       "      <td>148</td>\n",
       "      <td>9.2</td>\n",
       "      <td>Hotels.com</td>\n",
       "    </tr>\n",
       "  </tbody>\n",
       "</table>\n",
       "</div>"
      ],
      "text/plain": [
       "     city  price_value  rating_score        site\n",
       "0  Berlin          107           8.8  Hotels.com\n",
       "1  Berlin          163           8.6  Hotels.com\n",
       "2  Berlin           93           8.4  Hotels.com\n",
       "3  Berlin           86           9.0  Hotels.com\n",
       "4  Berlin          148           9.2  Hotels.com"
      ]
     },
     "execution_count": 43,
     "metadata": {},
     "output_type": "execute_result"
    }
   ],
   "source": [
    "merge_com_df.head()"
   ]
  },
  {
   "cell_type": "markdown",
   "id": "05c75497",
   "metadata": {},
   "source": [
    "### Merge all the data"
   ]
  },
  {
   "cell_type": "code",
   "execution_count": 44,
   "id": "26cb9ec5",
   "metadata": {},
   "outputs": [
    {
     "name": "stdout",
     "output_type": "stream",
     "text": [
      "     city  price_value  rating_score         site\n",
      "0  Berlin          111           8.1  Booking.com\n",
      "1  Berlin           68           6.8  Booking.com\n",
      "2  Berlin          104           8.4  Booking.com\n",
      "3  Berlin          100           8.3  Booking.com\n",
      "4  Berlin          135           8.3  Booking.com\n",
      "\n",
      "Combined shape of all data:\n",
      "(5892, 4)\n"
     ]
    }
   ],
   "source": [
    "total_df = pd.concat([merge_booking_df,merge_abnb_df,merge_com_df], ignore_index=True)\n",
    "print(total_df.head())\n",
    "print()\n",
    "print('Combined shape of all data:')\n",
    "print(total_df.shape)"
   ]
  },
  {
   "cell_type": "markdown",
   "id": "7d74184c",
   "metadata": {},
   "source": [
    "### Descriptive Statistics"
   ]
  },
  {
   "cell_type": "markdown",
   "id": "751a6847",
   "metadata": {},
   "source": [
    "#### Total Statistics"
   ]
  },
  {
   "cell_type": "code",
   "execution_count": 45,
   "id": "2dcabbd6",
   "metadata": {
    "scrolled": true
   },
   "outputs": [
    {
     "data": {
      "text/html": [
       "<div>\n",
       "<style scoped>\n",
       "    .dataframe tbody tr th:only-of-type {\n",
       "        vertical-align: middle;\n",
       "    }\n",
       "\n",
       "    .dataframe tbody tr th {\n",
       "        vertical-align: top;\n",
       "    }\n",
       "\n",
       "    .dataframe thead th {\n",
       "        text-align: right;\n",
       "    }\n",
       "</style>\n",
       "<table border=\"1\" class=\"dataframe\">\n",
       "  <thead>\n",
       "    <tr style=\"text-align: right;\">\n",
       "      <th></th>\n",
       "      <th>price_value</th>\n",
       "      <th>rating_score</th>\n",
       "    </tr>\n",
       "  </thead>\n",
       "  <tbody>\n",
       "    <tr>\n",
       "      <th>count</th>\n",
       "      <td>5892.000000</td>\n",
       "      <td>5892.000000</td>\n",
       "    </tr>\n",
       "    <tr>\n",
       "      <th>mean</th>\n",
       "      <td>193.081297</td>\n",
       "      <td>8.426935</td>\n",
       "    </tr>\n",
       "    <tr>\n",
       "      <th>std</th>\n",
       "      <td>208.074057</td>\n",
       "      <td>1.036206</td>\n",
       "    </tr>\n",
       "    <tr>\n",
       "      <th>min</th>\n",
       "      <td>9.000000</td>\n",
       "      <td>2.000000</td>\n",
       "    </tr>\n",
       "    <tr>\n",
       "      <th>25%</th>\n",
       "      <td>94.000000</td>\n",
       "      <td>7.900000</td>\n",
       "    </tr>\n",
       "    <tr>\n",
       "      <th>50%</th>\n",
       "      <td>139.000000</td>\n",
       "      <td>8.580000</td>\n",
       "    </tr>\n",
       "    <tr>\n",
       "      <th>75%</th>\n",
       "      <td>222.000000</td>\n",
       "      <td>9.200000</td>\n",
       "    </tr>\n",
       "    <tr>\n",
       "      <th>max</th>\n",
       "      <td>5476.000000</td>\n",
       "      <td>10.000000</td>\n",
       "    </tr>\n",
       "  </tbody>\n",
       "</table>\n",
       "</div>"
      ],
      "text/plain": [
       "       price_value  rating_score\n",
       "count  5892.000000   5892.000000\n",
       "mean    193.081297      8.426935\n",
       "std     208.074057      1.036206\n",
       "min       9.000000      2.000000\n",
       "25%      94.000000      7.900000\n",
       "50%     139.000000      8.580000\n",
       "75%     222.000000      9.200000\n",
       "max    5476.000000     10.000000"
      ]
     },
     "execution_count": 45,
     "metadata": {},
     "output_type": "execute_result"
    }
   ],
   "source": [
    "total_df.describe()"
   ]
  },
  {
   "cell_type": "code",
   "execution_count": 46,
   "id": "b3373c77",
   "metadata": {},
   "outputs": [
    {
     "data": {
      "image/png": "[encoded data removed]",
      "text/plain": [
       "<Figure size 864x432 with 4 Axes>"
      ]
     },
     "metadata": {
      "needs_background": "light"
     },
     "output_type": "display_data"
    }
   ],
   "source": [
    "# Create a figure and a grid of subplots\n",
    "fig, axes = plt.subplots(2, 2, figsize=(12, 6))\n",
    "\n",
    "# Histogram for price\n",
    "sns.histplot(data = total_df, x='price_value', ax=axes[0,0])\n",
    "axes[0,0].set_title(\"Histogram for Prices\")\n",
    "\n",
    "\n",
    "# Histogram for ratings\n",
    "sns.histplot(data = total_df, x='rating_score', ax=axes[0,1])\n",
    "axes[0,1].set_title(\"Histogram for Ratings\")\n",
    "\n",
    "# Boxplot for price\n",
    "sns.boxplot(data = total_df, x='price_value', ax=axes[1,0])\n",
    "axes[1,0].set_title(\"Boxplot for Prices\")\n",
    "\n",
    "# Boxplot for rating\n",
    "sns.boxplot(data = total_df, x='rating_score', ax=axes[1,1])\n",
    "axes[1,1].set_title(\"Boxplot for Rating\")\n",
    "\n",
    "# Adjust spacing between subplots\n",
    "plt.tight_layout()\n",
    "\n",
    "# Display the plots\n",
    "plt.show()\n"
   ]
  },
  {
   "cell_type": "markdown",
   "id": "7322f1b8",
   "metadata": {},
   "source": [
    "#### Price Statistics"
   ]
  },
  {
   "cell_type": "code",
   "execution_count": 144,
   "id": "0c7f8898",
   "metadata": {},
   "outputs": [
    {
     "name": "stdout",
     "output_type": "stream",
     "text": [
      "Price Summary Table for Each City\n",
      "\n",
      "         count        mean         std   min     25%    50%    75%     max  \\\n",
      "city                                                                         \n",
      "Berlin  1236.0  114.575243   52.669361  19.0   83.00  105.0  133.0   493.0   \n",
      "London  1244.0  209.577170  149.708528   9.0  119.00  176.0  259.0  2406.0   \n",
      "Madrid  1261.0  156.724029  139.906840  25.0   90.00  122.0  181.0  1873.0   \n",
      "Paris   1216.0  161.075658   90.104580  15.0   99.75  143.0  200.0   747.0   \n",
      "Rome     935.0  365.571123  401.482556  26.0  127.00  269.0  431.0  5476.0   \n",
      "\n",
      "        skewness   kurtosis  \n",
      "city                         \n",
      "Berlin  2.315873   9.528976  \n",
      "London  4.229248  42.674609  \n",
      "Madrid  6.487529  63.049722  \n",
      "Paris   1.806618   5.839597  \n",
      "Rome    4.998677  45.906520  \n",
      "\n"
     ]
    },
    {
     "data": {
      "image/png": "[encoded data removed]",
      "text/plain": [
       "<Figure size 864x432 with 2 Axes>"
      ]
     },
     "metadata": {
      "needs_background": "light"
     },
     "output_type": "display_data"
    }
   ],
   "source": [
    "price_city_stats = total_df.groupby('city')['price_value'].describe()\n",
    "price_city_stats['skewness'] =  total_df.groupby('city')['price_value'].skew()\n",
    "price_city_stats['kurtosis'] =  total_df.groupby('city')['price_value'].apply(lambda x: pd.Series.kurtosis(x))\n",
    "\n",
    "print('Price Summary Table for Each City')\n",
    "print()\n",
    "print(price_city_stats)\n",
    "print()\n",
    "\n",
    "# Create a figure and a grid of subplots\n",
    "fig, axes = plt.subplots(1, 2, figsize=(12, 6))\n",
    "# Boxplot\n",
    "sns.boxplot(data=total_df, x='city', y='price_value', ax=axes[0])\n",
    "axes[0].set_title('Boxplot of Prices for Each City')\n",
    "\n",
    "# Violin Plot\n",
    "sns.violinplot(data=total_df, x='city', y='price_value', ax=axes[1])\n",
    "axes[1].set_title('Violinplot of Prices for Each City')\n",
    "plt.show()\n"
   ]
  },
  {
   "cell_type": "code",
   "execution_count": 145,
   "id": "a8e91a5a",
   "metadata": {},
   "outputs": [
    {
     "name": "stdout",
     "output_type": "stream",
     "text": [
      "\n",
      "Price Summary for Each Site\n",
      "\n",
      "              count        mean         std   min    25%    50%    75%  \\\n",
      "site                                                                     \n",
      "AirBnB       1249.0   90.830264   42.829492  21.0   62.0   85.0  113.0   \n",
      "Booking.com  2173.0  217.045559  274.454359   9.0  103.0  143.0  223.0   \n",
      "Hotels.com   2470.0  223.703644  171.396692  19.0  122.0  183.5  268.0   \n",
      "\n",
      "                max  skewness    kurtosis  \n",
      "site                                       \n",
      "AirBnB        629.0  2.567087   21.314002  \n",
      "Booking.com  5476.0  7.907910  107.926684  \n",
      "Hotels.com   2406.0  4.099125   29.627700  \n"
     ]
    },
    {
     "data": {
      "image/png": "[encoded data removed]",
      "text/plain": [
       "<Figure size 864x432 with 2 Axes>"
      ]
     },
     "metadata": {
      "needs_background": "light"
     },
     "output_type": "display_data"
    }
   ],
   "source": [
    "price_site_stats = total_df.groupby('site')['price_value'].describe()\n",
    "price_site_stats['skewness'] =  total_df.groupby('site')['price_value'].skew()\n",
    "price_site_stats['kurtosis'] =  total_df.groupby('site')['price_value'].apply(lambda x: pd.Series.kurtosis(x))\n",
    "\n",
    "print()\n",
    "print('Price Summary for Each Site')\n",
    "print()\n",
    "print(price_site_stats)\n",
    "# Create a figure and a grid of subplots\n",
    "fig, axes = plt.subplots(1, 2, figsize=(12, 6))\n",
    "# Boxplot\n",
    "sns.boxplot(data=total_df, x='site', y='price_value', ax=axes[0])\n",
    "axes[0].set_title('Boxplot of Prices for Each Site')\n",
    "\n",
    "# Violin Plot\n",
    "sns.violinplot(data=total_df, x='site', y='price_value', ax=axes[1])\n",
    "axes[1].set_title('Violinplot of Prices for Each Site')\n",
    "plt.show()\n"
   ]
  },
  {
   "cell_type": "markdown",
   "id": "98c578f5",
   "metadata": {},
   "source": [
    "#### Rating Statistics"
   ]
  },
  {
   "cell_type": "code",
   "execution_count": 146,
   "id": "5e7eb7b0",
   "metadata": {},
   "outputs": [
    {
     "name": "stdout",
     "output_type": "stream",
     "text": [
      "Rating Summary for each city\n",
      "\n",
      "         count      mean       std  min  25%  50%    75%   max  skewness  \\\n",
      "city                                                                       \n",
      "Berlin  1236.0  8.328414  1.031212  3.6  7.8  8.4  9.000  10.0 -0.672041   \n",
      "London  1244.0  8.271334  1.107684  3.7  7.6  8.4  9.105  10.0 -0.772410   \n",
      "Madrid  1261.0  8.556987  0.895569  2.0  8.1  8.6  9.200  10.0 -1.398732   \n",
      "Paris   1216.0  8.262730  1.085139  3.2  7.6  8.3  9.025  10.0 -0.812802   \n",
      "Rome     935.0  8.802353  0.935620  2.0  8.4  9.0  9.420  10.0 -1.819576   \n",
      "\n",
      "        kurtosis  \n",
      "city              \n",
      "Berlin  0.821118  \n",
      "London  0.611031  \n",
      "Madrid  4.988122  \n",
      "Paris   1.323768  \n",
      "Rome    6.529435  \n"
     ]
    },
    {
     "data": {
      "image/png": "[encoded data removed]",
      "text/plain": [
       "<Figure size 864x432 with 2 Axes>"
      ]
     },
     "metadata": {
      "needs_background": "light"
     },
     "output_type": "display_data"
    }
   ],
   "source": [
    "rating_city_stats = total_df.groupby('city')['rating_score'].describe()\n",
    "rating_city_stats['skewness'] =  total_df.groupby('city')['rating_score'].skew()\n",
    "rating_city_stats['kurtosis'] =  total_df.groupby('city')['rating_score'].apply(lambda x: pd.Series.kurtosis(x))\n",
    "\n",
    "print('Rating Summary for each city')\n",
    "print()\n",
    "print(rating_city_stats)\n",
    "# Create a figure and a grid of subplots\n",
    "fig, axes = plt.subplots(1, 2, figsize=(12, 6))\n",
    "# Boxplot\n",
    "sns.boxplot(data=total_df, x='city', y='rating_score', ax=axes[0])\n",
    "axes[0].set_title('Boxplot of Rating for Each City')\n",
    "\n",
    "# Violin Plot\n",
    "sns.violinplot(data=total_df, x='city', y='rating_score', ax=axes[1])\n",
    "axes[1].set_title('Violinplot of Rating for Each City')\n",
    "plt.show()\n"
   ]
  },
  {
   "cell_type": "code",
   "execution_count": 147,
   "id": "861f7a2e",
   "metadata": {
    "scrolled": false
   },
   "outputs": [
    {
     "name": "stdout",
     "output_type": "stream",
     "text": [
      "Rating Summary for Each Site\n",
      "\n",
      "              count      mean       std   min   25%  50%   75%   max  \\\n",
      "site                                                                   \n",
      "AirBnB       1249.0  9.493915  0.446838  5.66  9.28  9.6  9.82  10.0   \n",
      "Booking.com  2173.0  7.859273  0.939276  3.20  7.40  8.0  8.50  10.0   \n",
      "Hotels.com   2470.0  8.386802  0.907591  2.00  8.00  8.6  9.00  10.0   \n",
      "\n",
      "             skewness  kurtosis  \n",
      "site                             \n",
      "AirBnB      -1.710162  6.147000  \n",
      "Booking.com -1.231208  2.386343  \n",
      "Hotels.com  -1.397638  4.002309  \n"
     ]
    },
    {
     "data": {
      "image/png": "[encoded data removed]",
      "text/plain": [
       "<Figure size 864x432 with 2 Axes>"
      ]
     },
     "metadata": {
      "needs_background": "light"
     },
     "output_type": "display_data"
    }
   ],
   "source": [
    "rating_site_stats = total_df.groupby('site')['rating_score'].describe()\n",
    "rating_site_stats['skewness'] =  total_df.groupby('site')['rating_score'].skew()\n",
    "rating_site_stats['kurtosis'] =  total_df.groupby('site')['rating_score'].apply(lambda x: pd.Series.kurtosis(x))\n",
    "print('Rating Summary for Each Site')\n",
    "print()\n",
    "print(rating_site_stats)\n",
    "# Create a figure and a grid of subplots\n",
    "fig, axes = plt.subplots(1, 2, figsize=(12, 6))\n",
    "# Boxplot\n",
    "sns.boxplot(data=total_df, x='site', y='rating_score', ax=axes[0])\n",
    "axes[0].set_title('Boxplot of Rating for Each Site')\n",
    "\n",
    "# Violin Plot\n",
    "sns.violinplot(data=total_df, x='site', y='rating_score', ax=axes[1])\n",
    "axes[1].set_title('Violinplot of Rating for Each Site')\n",
    "plt.show()\n"
   ]
  },
  {
   "cell_type": "markdown",
   "id": "b30a2773",
   "metadata": {},
   "source": [
    "### Indentifying Outliers and Removing Them"
   ]
  },
  {
   "cell_type": "code",
   "execution_count": 51,
   "id": "2234f751",
   "metadata": {},
   "outputs": [
    {
     "data": {
      "text/html": [
       "<div>\n",
       "<style scoped>\n",
       "    .dataframe tbody tr th:only-of-type {\n",
       "        vertical-align: middle;\n",
       "    }\n",
       "\n",
       "    .dataframe tbody tr th {\n",
       "        vertical-align: top;\n",
       "    }\n",
       "\n",
       "    .dataframe thead th {\n",
       "        text-align: right;\n",
       "    }\n",
       "</style>\n",
       "<table border=\"1\" class=\"dataframe\">\n",
       "  <thead>\n",
       "    <tr style=\"text-align: right;\">\n",
       "      <th></th>\n",
       "      <th>city</th>\n",
       "      <th>price_value</th>\n",
       "      <th>rating_score</th>\n",
       "      <th>site</th>\n",
       "    </tr>\n",
       "  </thead>\n",
       "  <tbody>\n",
       "    <tr>\n",
       "      <th>1577</th>\n",
       "      <td>Rome</td>\n",
       "      <td>5476</td>\n",
       "      <td>8.0</td>\n",
       "      <td>Booking.com</td>\n",
       "    </tr>\n",
       "    <tr>\n",
       "      <th>1638</th>\n",
       "      <td>Rome</td>\n",
       "      <td>4653</td>\n",
       "      <td>9.4</td>\n",
       "      <td>Booking.com</td>\n",
       "    </tr>\n",
       "    <tr>\n",
       "      <th>1572</th>\n",
       "      <td>Rome</td>\n",
       "      <td>3182</td>\n",
       "      <td>8.4</td>\n",
       "      <td>Booking.com</td>\n",
       "    </tr>\n",
       "    <tr>\n",
       "      <th>1470</th>\n",
       "      <td>Rome</td>\n",
       "      <td>2606</td>\n",
       "      <td>9.0</td>\n",
       "      <td>Booking.com</td>\n",
       "    </tr>\n",
       "    <tr>\n",
       "      <th>4829</th>\n",
       "      <td>London</td>\n",
       "      <td>2406</td>\n",
       "      <td>8.0</td>\n",
       "      <td>Hotels.com</td>\n",
       "    </tr>\n",
       "  </tbody>\n",
       "</table>\n",
       "</div>"
      ],
      "text/plain": [
       "        city  price_value  rating_score         site\n",
       "1577    Rome         5476           8.0  Booking.com\n",
       "1638    Rome         4653           9.4  Booking.com\n",
       "1572    Rome         3182           8.4  Booking.com\n",
       "1470    Rome         2606           9.0  Booking.com\n",
       "4829  London         2406           8.0   Hotels.com"
      ]
     },
     "execution_count": 51,
     "metadata": {},
     "output_type": "execute_result"
    }
   ],
   "source": [
    "sorted_price_total_df = total_df.sort_values('price_value', ascending=False)\n",
    "sorted_price_total_df.head()"
   ]
  },
  {
   "cell_type": "code",
   "execution_count": 52,
   "id": "2229d4a9",
   "metadata": {},
   "outputs": [],
   "source": [
    "to_remove = sorted_price_total_df.head().index\n",
    "refined_total_df = total_df.drop(to_remove, axis=0)"
   ]
  },
  {
   "cell_type": "code",
   "execution_count": 53,
   "id": "edc227fa",
   "metadata": {},
   "outputs": [
    {
     "data": {
      "text/html": [
       "<div>\n",
       "<style scoped>\n",
       "    .dataframe tbody tr th:only-of-type {\n",
       "        vertical-align: middle;\n",
       "    }\n",
       "\n",
       "    .dataframe tbody tr th {\n",
       "        vertical-align: top;\n",
       "    }\n",
       "\n",
       "    .dataframe thead th {\n",
       "        text-align: right;\n",
       "    }\n",
       "</style>\n",
       "<table border=\"1\" class=\"dataframe\">\n",
       "  <thead>\n",
       "    <tr style=\"text-align: right;\">\n",
       "      <th></th>\n",
       "      <th>price_value</th>\n",
       "      <th>rating_score</th>\n",
       "    </tr>\n",
       "  </thead>\n",
       "  <tbody>\n",
       "    <tr>\n",
       "      <th>count</th>\n",
       "      <td>5887.000000</td>\n",
       "      <td>5887.000000</td>\n",
       "    </tr>\n",
       "    <tr>\n",
       "      <th>mean</th>\n",
       "      <td>190.132835</td>\n",
       "      <td>8.426822</td>\n",
       "    </tr>\n",
       "    <tr>\n",
       "      <th>std</th>\n",
       "      <td>178.502111</td>\n",
       "      <td>1.036512</td>\n",
       "    </tr>\n",
       "    <tr>\n",
       "      <th>min</th>\n",
       "      <td>9.000000</td>\n",
       "      <td>2.000000</td>\n",
       "    </tr>\n",
       "    <tr>\n",
       "      <th>25%</th>\n",
       "      <td>94.000000</td>\n",
       "      <td>7.900000</td>\n",
       "    </tr>\n",
       "    <tr>\n",
       "      <th>50%</th>\n",
       "      <td>139.000000</td>\n",
       "      <td>8.580000</td>\n",
       "    </tr>\n",
       "    <tr>\n",
       "      <th>75%</th>\n",
       "      <td>221.000000</td>\n",
       "      <td>9.200000</td>\n",
       "    </tr>\n",
       "    <tr>\n",
       "      <th>max</th>\n",
       "      <td>1876.000000</td>\n",
       "      <td>10.000000</td>\n",
       "    </tr>\n",
       "  </tbody>\n",
       "</table>\n",
       "</div>"
      ],
      "text/plain": [
       "       price_value  rating_score\n",
       "count  5887.000000   5887.000000\n",
       "mean    190.132835      8.426822\n",
       "std     178.502111      1.036512\n",
       "min       9.000000      2.000000\n",
       "25%      94.000000      7.900000\n",
       "50%     139.000000      8.580000\n",
       "75%     221.000000      9.200000\n",
       "max    1876.000000     10.000000"
      ]
     },
     "execution_count": 53,
     "metadata": {},
     "output_type": "execute_result"
    }
   ],
   "source": [
    "refined_total_df.describe()"
   ]
  },
  {
   "cell_type": "code",
   "execution_count": 54,
   "id": "83b482b1",
   "metadata": {},
   "outputs": [
    {
     "data": {
      "image/png": "[encoded data removed]",
      "text/plain": [
       "<Figure size 864x432 with 4 Axes>"
      ]
     },
     "metadata": {
      "needs_background": "light"
     },
     "output_type": "display_data"
    }
   ],
   "source": [
    "# Create a figure and a grid of subplots\n",
    "fig, axes = plt.subplots(2, 2, figsize=(12, 6))\n",
    "\n",
    "# Histogram for price\n",
    "sns.histplot(data = refined_total_df, x='price_value', ax=axes[0,0])\n",
    "axes[0,0].set_title(\"Histogram for Prices\")\n",
    "\n",
    "\n",
    "# Histogram for ratings\n",
    "sns.histplot(data = refined_total_df, x='rating_score', ax=axes[0,1])\n",
    "axes[0,1].set_title(\"Histogram for Ratings\")\n",
    "\n",
    "# Boxplot for price\n",
    "sns.boxplot(data = refined_total_df, x='price_value', ax=axes[1,0])\n",
    "axes[1,0].set_title(\"Boxplot for Prices\")\n",
    "\n",
    "# Boxplot for rating\n",
    "sns.boxplot(data = refined_total_df, x='rating_score', ax=axes[1,1])\n",
    "axes[1,1].set_title(\"Boxplot for Rating\")\n",
    "\n",
    "# Adjust spacing between subplots\n",
    "plt.tight_layout()\n",
    "\n",
    "# Display the plots\n",
    "plt.show()\n"
   ]
  },
  {
   "cell_type": "code",
   "execution_count": 55,
   "id": "9f39866e",
   "metadata": {},
   "outputs": [
    {
     "name": "stdout",
     "output_type": "stream",
     "text": [
      "Original DataFrame:\n",
      "(5887, 4)\n",
      "\n",
      "Filtered DataFrame:\n",
      "(5735, 4)\n"
     ]
    }
   ],
   "source": [
    "# Define numeric columns\n",
    "num_cols = ['price_value']\n",
    "\n",
    "Q1 = refined_total_df[num_cols].quantile(0.25)\n",
    "Q3 = refined_total_df[num_cols].quantile(0.75)\n",
    "IQR = Q3 - Q1\n",
    "\n",
    "# Define the outlier threshold as 1.5 times the IQR\n",
    "threshold = 3.5\n",
    "\n",
    "# Identify outliers in each numeric column\n",
    "outlier_mask = ((refined_total_df[num_cols] < (Q1 - threshold * IQR)) |\n",
    "                (refined_total_df[num_cols] > (Q3 + threshold * IQR))).any(axis=1)\n",
    "\n",
    "# Remove the outliers from the DataFrame\n",
    "filtered_df = refined_total_df[~outlier_mask]\n",
    "\n",
    "print(\"Original DataFrame:\")\n",
    "print(refined_total_df.shape)\n",
    "print()\n",
    "print(\"Filtered DataFrame:\")\n",
    "print(filtered_df.shape)"
   ]
  },
  {
   "cell_type": "code",
   "execution_count": 56,
   "id": "26e0d407",
   "metadata": {},
   "outputs": [
    {
     "data": {
      "text/html": [
       "<div>\n",
       "<style scoped>\n",
       "    .dataframe tbody tr th:only-of-type {\n",
       "        vertical-align: middle;\n",
       "    }\n",
       "\n",
       "    .dataframe tbody tr th {\n",
       "        vertical-align: top;\n",
       "    }\n",
       "\n",
       "    .dataframe thead th {\n",
       "        text-align: right;\n",
       "    }\n",
       "</style>\n",
       "<table border=\"1\" class=\"dataframe\">\n",
       "  <thead>\n",
       "    <tr style=\"text-align: right;\">\n",
       "      <th></th>\n",
       "      <th>price_value</th>\n",
       "      <th>rating_score</th>\n",
       "    </tr>\n",
       "  </thead>\n",
       "  <tbody>\n",
       "    <tr>\n",
       "      <th>count</th>\n",
       "      <td>152.000000</td>\n",
       "      <td>152.000000</td>\n",
       "    </tr>\n",
       "    <tr>\n",
       "      <th>mean</th>\n",
       "      <td>997.236842</td>\n",
       "      <td>8.838816</td>\n",
       "    </tr>\n",
       "    <tr>\n",
       "      <th>std</th>\n",
       "      <td>337.360434</td>\n",
       "      <td>0.842422</td>\n",
       "    </tr>\n",
       "    <tr>\n",
       "      <th>min</th>\n",
       "      <td>668.000000</td>\n",
       "      <td>5.000000</td>\n",
       "    </tr>\n",
       "    <tr>\n",
       "      <th>25%</th>\n",
       "      <td>745.750000</td>\n",
       "      <td>8.600000</td>\n",
       "    </tr>\n",
       "    <tr>\n",
       "      <th>50%</th>\n",
       "      <td>863.000000</td>\n",
       "      <td>9.050000</td>\n",
       "    </tr>\n",
       "    <tr>\n",
       "      <th>75%</th>\n",
       "      <td>1138.750000</td>\n",
       "      <td>9.400000</td>\n",
       "    </tr>\n",
       "    <tr>\n",
       "      <th>max</th>\n",
       "      <td>1876.000000</td>\n",
       "      <td>10.000000</td>\n",
       "    </tr>\n",
       "  </tbody>\n",
       "</table>\n",
       "</div>"
      ],
      "text/plain": [
       "       price_value  rating_score\n",
       "count   152.000000    152.000000\n",
       "mean    997.236842      8.838816\n",
       "std     337.360434      0.842422\n",
       "min     668.000000      5.000000\n",
       "25%     745.750000      8.600000\n",
       "50%     863.000000      9.050000\n",
       "75%    1138.750000      9.400000\n",
       "max    1876.000000     10.000000"
      ]
     },
     "execution_count": 56,
     "metadata": {},
     "output_type": "execute_result"
    }
   ],
   "source": [
    "outliers_df = refined_total_df[outlier_mask]\n",
    "outliers_df.describe()"
   ]
  },
  {
   "cell_type": "code",
   "execution_count": 57,
   "id": "cc92d6b1",
   "metadata": {},
   "outputs": [
    {
     "data": {
      "image/png": "[encoded data removed]",
      "text/plain": [
       "<Figure size 864x432 with 2 Axes>"
      ]
     },
     "metadata": {
      "needs_background": "light"
     },
     "output_type": "display_data"
    }
   ],
   "source": [
    "# Create a figure and a grid of subplots\n",
    "fig, axes = plt.subplots(1, 2, figsize=(12, 6))\n",
    "\n",
    "sns.histplot(data = outliers_df, x='price_value', ax = axes[0])\n",
    "axes[0].set_title('Histogram of Removed Outliers - Price')\n",
    "sns.histplot(data = outliers_df, x='rating_score', ax = axes[1])\n",
    "axes[1].set_title('Histogram of Removed Outliers - Rating ')\n",
    "\n",
    "plt.show()"
   ]
  },
  {
   "cell_type": "markdown",
   "id": "3c9be5f5",
   "metadata": {},
   "source": [
    "### Post-Outlier Removal Analysis"
   ]
  },
  {
   "cell_type": "code",
   "execution_count": 150,
   "id": "e8da61ed",
   "metadata": {},
   "outputs": [
    {
     "name": "stdout",
     "output_type": "stream",
     "text": [
      "Rating Summary for Each Site\n",
      "\n",
      "         count      mean       std  min  25%  50%    75%   max  skewness  \\\n",
      "city                                                                       \n",
      "Berlin  1236.0  8.328414  1.031212  3.6  7.8  8.4  9.000  10.0 -0.672041   \n",
      "London  1243.0  8.271553  1.108103  3.7  7.6  8.4  9.110  10.0 -0.772737   \n",
      "Madrid  1261.0  8.556987  0.895569  2.0  8.1  8.6  9.200  10.0 -1.398732   \n",
      "Paris   1216.0  8.262730  1.085139  3.2  7.6  8.3  9.025  10.0 -0.812802   \n",
      "Rome     931.0  8.802793  0.936941  2.0  8.4  9.0  9.430  10.0 -1.820642   \n",
      "\n",
      "        kurtosis  \n",
      "city              \n",
      "Berlin  0.821118  \n",
      "London  0.609086  \n",
      "Madrid  4.988122  \n",
      "Paris   1.323768  \n",
      "Rome    6.519427  \n"
     ]
    },
    {
     "data": {
      "image/png": "[encoded data removed]",
      "text/plain": [
       "<Figure size 864x432 with 2 Axes>"
      ]
     },
     "metadata": {
      "needs_background": "light"
     },
     "output_type": "display_data"
    }
   ],
   "source": [
    "rating_city_stats_new = refined_total_df.groupby('city')['rating_score'].describe()\n",
    "rating_city_stats_new['skewness'] =  refined_total_df.groupby('city')['rating_score'].skew()\n",
    "rating_city_stats_new['kurtosis'] =  refined_total_df.groupby('city')['rating_score'].apply(lambda x: pd.Series.kurtosis(x))\n",
    "print('Rating Summary for Each Site')\n",
    "print()\n",
    "print(rating_city_stats_new)\n",
    "# Create a figure and a grid of subplots\n",
    "fig, axes = plt.subplots(1, 2, figsize=(12, 6))\n",
    "# Boxplot\n",
    "sns.boxplot(data=refined_total_df, x='city', y='rating_score', ax=axes[0])\n",
    "axes[0].set_title('Boxplot of Rating for Each Site')\n",
    "\n",
    "# Violin Plot\n",
    "sns.violinplot(data=refined_total_df, x='city', y='rating_score', ax=axes[1])\n",
    "axes[1].set_title('Violinplot of Rating for Each Site')\n",
    "plt.show()\n"
   ]
  },
  {
   "cell_type": "code",
   "execution_count": 148,
   "id": "53f6e889",
   "metadata": {},
   "outputs": [
    {
     "name": "stdout",
     "output_type": "stream",
     "text": [
      "Rating Summary for Each Site\n",
      "\n",
      "              count      mean       std   min   25%  50%   75%   max  \\\n",
      "site                                                                   \n",
      "AirBnB       1249.0  9.493915  0.446838  5.66  9.28  9.6  9.82  10.0   \n",
      "Booking.com  2169.0  7.857722  0.939163  3.20  7.40  8.0  8.50  10.0   \n",
      "Hotels.com   2469.0  8.386958  0.907742  2.00  8.00  8.6  9.00  10.0   \n",
      "\n",
      "             skewness  kurtosis  \n",
      "site                             \n",
      "AirBnB      -1.710162  6.147000  \n",
      "Booking.com -1.231928  2.386352  \n",
      "Hotels.com  -1.397996  4.001461  \n"
     ]
    },
    {
     "data": {
      "image/png": "[encoded data removed]",
      "text/plain": [
       "<Figure size 864x432 with 2 Axes>"
      ]
     },
     "metadata": {
      "needs_background": "light"
     },
     "output_type": "display_data"
    }
   ],
   "source": [
    "rating_site_stats_new = refined_total_df.groupby('site')['rating_score'].describe()\n",
    "rating_site_stats_new['skewness'] =  refined_total_df.groupby('site')['rating_score'].skew()\n",
    "rating_site_stats_new['kurtosis'] =  refined_total_df.groupby('site')['rating_score'].apply(lambda x: pd.Series.kurtosis(x))\n",
    "print('Rating Summary for Each Site')\n",
    "print()\n",
    "print(rating_site_stats_new)\n",
    "# Create a figure and a grid of subplots\n",
    "fig, axes = plt.subplots(1, 2, figsize=(12, 6))\n",
    "# Boxplot\n",
    "sns.boxplot(data=refined_total_df, x='site', y='rating_score', ax=axes[0])\n",
    "axes[0].set_title('Boxplot of Rating for Each Site')\n",
    "\n",
    "# Violin Plot\n",
    "sns.violinplot(data=refined_total_df, x='site', y='rating_score', ax=axes[1])\n",
    "axes[1].set_title('Violinplot of Rating for Each Site')\n",
    "plt.show()\n"
   ]
  },
  {
   "cell_type": "code",
   "execution_count": 137,
   "id": "957d1b1b",
   "metadata": {},
   "outputs": [
    {
     "name": "stdout",
     "output_type": "stream",
     "text": [
      "Price Summary Table for Each City\n",
      "\n",
      "         count        mean         std   min     25%    50%    75%     max  \\\n",
      "city                                                                         \n",
      "Berlin  1236.0  114.575243   52.669361  19.0   83.00  105.0  133.0   493.0   \n",
      "London  1243.0  207.810137  136.173735   9.0  119.00  176.0  259.0  1283.0   \n",
      "Madrid  1261.0  156.724029  139.906840  25.0   90.00  122.0  181.0  1873.0   \n",
      "Paris   1216.0  161.075658   90.104580  15.0   99.75  143.0  200.0   747.0   \n",
      "Rome     931.0  350.045113  316.015299  26.0  127.00  268.0  425.5  1876.0   \n",
      "\n",
      "        skewness   kurtosis  \n",
      "city                         \n",
      "Berlin  2.315873   9.528976  \n",
      "London  2.279231   9.139419  \n",
      "Madrid  6.487529  63.049722  \n",
      "Paris   1.806618   5.839597  \n",
      "Rome    2.047131   5.122697  \n",
      "\n"
     ]
    },
    {
     "data": {
      "image/png": "[encoded data removed]",
      "text/plain": [
       "<Figure size 864x432 with 2 Axes>"
      ]
     },
     "metadata": {
      "needs_background": "light"
     },
     "output_type": "display_data"
    }
   ],
   "source": [
    "price_city_stats_new = refined_total_df.groupby('city')['price_value'].describe()\n",
    "price_city_stats_new['skewness'] =  refined_total_df.groupby('city')['price_value'].skew()\n",
    "price_city_stats_new['kurtosis'] =  refined_total_df.groupby('city')['price_value'].apply(lambda x: pd.Series.kurtosis(x))\n",
    "\n",
    "\n",
    "print('Price Summary Table for Each City')\n",
    "print()\n",
    "print(price_city_stats_new)\n",
    "print()\n",
    "# Create a figure and a grid of subplots\n",
    "fig, axes = plt.subplots(1, 2, figsize=(12, 6))\n",
    "# Boxplot\n",
    "sns.boxplot(data=refined_total_df, x='city', y='price_value', ax=axes[0])\n",
    "axes[0].set_title('Boxplot of Price for Each City')\n",
    "\n",
    "# Violin Plot\n",
    "sns.violinplot(data=refined_total_df, x='city', y='price_value', ax=axes[1])\n",
    "axes[1].set_title('Violinplot of Price for Each City')\n",
    "plt.show()\n"
   ]
  },
  {
   "cell_type": "code",
   "execution_count": 138,
   "id": "9ebd9e60",
   "metadata": {
    "scrolled": false
   },
   "outputs": [
    {
     "name": "stdout",
     "output_type": "stream",
     "text": [
      "Price Summary Table for Each Site\n",
      "\n",
      "              count        mean         std   min    25%    50%    75%  \\\n",
      "site                                                                     \n",
      "AirBnB       1249.0   90.830264   42.829492  21.0   62.0   85.0  113.0   \n",
      "Booking.com  2169.0  210.107423  216.553814   9.0  103.0  143.0  222.0   \n",
      "Hotels.com   2469.0  222.819765  165.705403  19.0  122.0  183.0  268.0   \n",
      "\n",
      "                max  skewness   kurtosis  \n",
      "site                                      \n",
      "AirBnB        629.0  2.567087  21.314002  \n",
      "Booking.com  1876.0  3.838853  18.799164  \n",
      "Hotels.com   1873.0  3.627745  22.220992  \n",
      "\n"
     ]
    },
    {
     "data": {
      "image/png": "[encoded data removed]",
      "text/plain": [
       "<Figure size 864x432 with 2 Axes>"
      ]
     },
     "metadata": {
      "needs_background": "light"
     },
     "output_type": "display_data"
    }
   ],
   "source": [
    "price_site_stats_new = refined_total_df.groupby('site')['price_value'].describe()\n",
    "price_site_stats_new['skewness'] =  refined_total_df.groupby('site')['price_value'].skew()\n",
    "price_site_stats_new['kurtosis'] =  refined_total_df.groupby('site')['price_value'].apply(lambda x: pd.Series.kurtosis(x))\n",
    "\n",
    "print('Price Summary Table for Each Site')\n",
    "print()\n",
    "print(price_site_stats_new)\n",
    "print()\n",
    "# Create a figure and a grid of subplots\n",
    "fig, axes = plt.subplots(1, 2, figsize=(12, 6))\n",
    "# Boxplot\n",
    "sns.boxplot(data=refined_total_df, x='site', y='price_value', ax=axes[0])\n",
    "axes[0].set_title('Boxplot of Price for Each Site')\n",
    "\n",
    "# Violin Plot\n",
    "sns.violinplot(data=refined_total_df, x='site', y='price_value', ax=axes[1])\n",
    "axes[1].set_title('Violinplot of Price for Each Site')\n",
    "plt.show()"
   ]
  },
  {
   "cell_type": "markdown",
   "id": "e26655e2",
   "metadata": {},
   "source": [
    "Below I will add rating categories/ranges. Statistically we would like more in the lower categories to properly analyse them but in real life it is probably better that there isn't a lot of hotel ratings that low. "
   ]
  },
  {
   "cell_type": "code",
   "execution_count": 60,
   "id": "7abad3be",
   "metadata": {},
   "outputs": [],
   "source": [
    "# Define the rating ranges and corresponding categories\n",
    "rating_ranges = [(2, 6),(6, 8),(8,10)]\n",
    "rating_categories = ['2-6','6-8','8-10']\n",
    "\n",
    "# Create a new column for the rating categories\n",
    "refined_total_df['rating_category'] = ''\n",
    "\n",
    "# Iterate through each row and assign the rating category\n",
    "for i, row in refined_total_df.iterrows():\n",
    "    rating = row['rating_score']\n",
    "    for j, (lower, upper) in enumerate(rating_ranges):\n",
    "        if lower <= rating <= upper:  # Adjusted the comparison operators\n",
    "            refined_total_df.at[i, 'rating_category'] = rating_categories[j]\n",
    "            break"
   ]
  },
  {
   "cell_type": "code",
   "execution_count": 140,
   "id": "1531b55a",
   "metadata": {},
   "outputs": [
    {
     "name": "stdout",
     "output_type": "stream",
     "text": [
      "Price Summary Table for Each Site\n",
      "\n",
      "                  count        mean         std   min   25%    50%    75%  \\\n",
      "rating_category                                                             \n",
      "2-6               175.0  112.502857   91.096253  25.0  69.5   87.0  119.0   \n",
      "6-8              1678.0  156.000596  124.725963   9.0  93.0  126.0  175.0   \n",
      "8-10             4034.0  207.698314  196.522679  19.0  98.0  150.0  250.0   \n",
      "\n",
      "                    max  skewness   kurtosis  \n",
      "rating_category                               \n",
      "2-6               839.0  4.654758  29.845061  \n",
      "6-8              1657.0  5.301053  43.881089  \n",
      "8-10             1876.0  3.707341  20.004984  \n",
      "\n"
     ]
    },
    {
     "data": {
      "image/png": "[encoded data removed]",
      "text/plain": [
       "<Figure size 864x432 with 2 Axes>"
      ]
     },
     "metadata": {
      "needs_background": "light"
     },
     "output_type": "display_data"
    }
   ],
   "source": [
    "rating_cat_stats = refined_total_df.groupby('rating_category')['price_value'].describe()\n",
    "rating_cat_stats['skewness'] =  refined_total_df.groupby('rating_category')['price_value'].skew()\n",
    "rating_cat_stats['kurtosis'] =  refined_total_df.groupby('rating_category')['price_value'].apply(lambda x: pd.Series.kurtosis(x))\n",
    "\n",
    "\n",
    "print('Price Summary Table for Each Site')\n",
    "print()\n",
    "print(rating_cat_stats)\n",
    "print()\n",
    "# Create a figure and a grid of subplots\n",
    "fig, axes = plt.subplots(1, 2, figsize=(12, 6))\n",
    "# Boxplot\n",
    "sns.boxplot(data=refined_total_df, x='rating_category', y='price_value', ax=axes[0])\n",
    "axes[0].set_title('Boxplot of Price for Each Rating Category')\n",
    "\n",
    "# Violin Plot\n",
    "sns.violinplot(data=refined_total_df, x='rating_category', y='price_value', ax=axes[1])\n",
    "axes[1].set_title('Violinplot of Price for Each Rating Category')\n",
    "plt.show()"
   ]
  },
  {
   "cell_type": "markdown",
   "id": "e701a9d3",
   "metadata": {},
   "source": [
    "### Analyse Potential Relationships"
   ]
  },
  {
   "cell_type": "code",
   "execution_count": 141,
   "id": "f6372e0d",
   "metadata": {},
   "outputs": [
    {
     "name": "stdout",
     "output_type": "stream",
     "text": [
      "       price_value  rating_score\n",
      "count  5887.000000   5887.000000\n",
      "mean    190.132835      8.426822\n",
      "std     178.502111      1.036512\n",
      "min       9.000000      2.000000\n",
      "25%      94.000000      7.900000\n",
      "50%     139.000000      8.580000\n",
      "75%     221.000000      9.200000\n",
      "max    1876.000000     10.000000\n"
     ]
    }
   ],
   "source": [
    "print(refined_total_df.describe())"
   ]
  },
  {
   "cell_type": "code",
   "execution_count": 142,
   "id": "b44915c0",
   "metadata": {},
   "outputs": [
    {
     "name": "stdout",
     "output_type": "stream",
     "text": [
      "              price_value  rating_score\n",
      "price_value      1.000000      0.114704\n",
      "rating_score     0.114704      1.000000\n"
     ]
    }
   ],
   "source": [
    "print(refined_total_df.corr())"
   ]
  },
  {
   "cell_type": "markdown",
   "id": "688443e6",
   "metadata": {},
   "source": [
    "#### Linear Regression"
   ]
  },
  {
   "cell_type": "code",
   "execution_count": 64,
   "id": "2a50ccb5",
   "metadata": {},
   "outputs": [],
   "source": [
    "# Price predicting Rating\n",
    "# Create the dependent variable (y) and independent variables (X)\n",
    "y = refined_total_df['price_value']\n",
    "X = refined_total_df['rating_score']\n",
    "\n",
    "# Add a constant column to the independent variables\n",
    "X = sm.add_constant(X)\n",
    "\n",
    "# Fit the linear regression model\n",
    "model = sm.OLS(y, X)\n",
    "results = model.fit()"
   ]
  },
  {
   "cell_type": "code",
   "execution_count": 151,
   "id": "47935e93",
   "metadata": {},
   "outputs": [],
   "source": [
    "# Rating predicting Price\n",
    "# Create the dependent variable (y) and independent variables (X)\n",
    "y2 = refined_total_df['rating_score']\n",
    "X2 = refined_total_df['price_value']\n",
    "\n",
    "# Add a constant column to the independent variables\n",
    "X2 = sm.add_constant(X2)\n",
    "\n",
    "# Fit the linear regression model\n",
    "model2 = sm.OLS(y2, X2)\n",
    "results2 = model2.fit()"
   ]
  },
  {
   "cell_type": "markdown",
   "id": "c3e70183",
   "metadata": {},
   "source": [
    "Assumptions for Rating Predicting Price"
   ]
  },
  {
   "cell_type": "code",
   "execution_count": 65,
   "id": "b77d0bb3",
   "metadata": {},
   "outputs": [
    {
     "data": {
      "image/png": "[encoded data removed]",
      "text/plain": [
       "<Figure size 432x288 with 1 Axes>"
      ]
     },
     "metadata": {
      "needs_background": "light"
     },
     "output_type": "display_data"
    },
    {
     "data": {
      "image/png": "[encoded data removed]",
      "text/plain": [
       "<Figure size 432x288 with 1 Axes>"
      ]
     },
     "metadata": {
      "needs_background": "light"
     },
     "output_type": "display_data"
    },
    {
     "data": {
      "image/png": "[encoded data removed]",
      "text/plain": [
       "<Figure size 432x288 with 1 Axes>"
      ]
     },
     "metadata": {
      "needs_background": "light"
     },
     "output_type": "display_data"
    },
    {
     "data": {
      "image/png": "[encoded data removed]",
      "text/plain": [
       "<Figure size 576x432 with 1 Axes>"
      ]
     },
     "metadata": {
      "needs_background": "light"
     },
     "output_type": "display_data"
    }
   ],
   "source": [
    "# Rating vs Price\n",
    "plt.scatter(refined_total_df['rating_score'], y)\n",
    "plt.xlabel('Rating')\n",
    "plt.ylabel('Price')\n",
    "plt.title('Rating vs Price')\n",
    "plt.show()\n",
    "\n",
    "# Residuals vs. Fitted values plot and Homoscedasticity\n",
    "sns.residplot(x=results.fittedvalues, y=results.resid)\n",
    "plt.xlabel('Fitted Values')\n",
    "plt.ylabel('Residuals')\n",
    "plt.title('Residuals vs. Fitted Values')\n",
    "plt.show()\n",
    "\n",
    "# Normality of residuals\n",
    "sm.qqplot(results.resid, line='s')\n",
    "plt.title('Normal Q-Q Plot of Residuals')\n",
    "plt.show()\n",
    "\n",
    "# Cook's Distance\n",
    "influence = results.get_influence()\n",
    "cooks_distance = influence.cooks_distance[0]\n",
    "# Plot Cook's distance\n",
    "plt.figure(figsize=(8, 6))\n",
    "plt.stem(np.arange(len(cooks_distance)), cooks_distance, markerfmt=\".\")\n",
    "plt.xlabel('Observation index')\n",
    "plt.ylabel(\"Cook's distance\")\n",
    "plt.title(\"Cook's Distance Plot\")\n",
    "plt.show()"
   ]
  },
  {
   "cell_type": "code",
   "execution_count": 160,
   "id": "033313e7",
   "metadata": {
    "scrolled": true
   },
   "outputs": [
    {
     "name": "stdout",
     "output_type": "stream",
     "text": [
      "Rating predicting Price\n",
      "                            OLS Regression Results                            \n",
      "==============================================================================\n",
      "Dep. Variable:            price_value   R-squared:                       0.013\n",
      "Model:                            OLS   Adj. R-squared:                  0.013\n",
      "Method:                 Least Squares   F-statistic:                     78.46\n",
      "Date:                Tue, 11 Jul 2023   Prob (F-statistic):           1.06e-18\n",
      "Time:                        15:56:39   Log-Likelihood:                -38836.\n",
      "No. Observations:                5887   AIC:                         7.768e+04\n",
      "Df Residuals:                    5885   BIC:                         7.769e+04\n",
      "Df Model:                           1                                         \n",
      "Covariance Type:            nonrobust                                         \n",
      "================================================================================\n",
      "                   coef    std err          t      P>|t|      [0.025      0.975]\n",
      "--------------------------------------------------------------------------------\n",
      "const           23.6721     18.934      1.250      0.211     -13.446      60.790\n",
      "rating_score    19.7537      2.230      8.858      0.000      15.382      24.125\n",
      "==============================================================================\n",
      "Omnibus:                     5034.774   Durbin-Watson:                   1.023\n",
      "Prob(Omnibus):                  0.000   Jarque-Bera (JB):           160568.190\n",
      "Skew:                           4.027   Prob(JB):                         0.00\n",
      "Kurtosis:                      27.284   Cond. No.                         70.5\n",
      "==============================================================================\n",
      "\n",
      "Notes:\n",
      "[1] Standard Errors assume that the covariance matrix of the errors is correctly specified.\n"
     ]
    }
   ],
   "source": [
    "# Print the summary of the regression results\n",
    "print('Rating predicting Price')\n",
    "print(results.summary())"
   ]
  },
  {
   "cell_type": "markdown",
   "id": "3b303d2f",
   "metadata": {},
   "source": [
    "Log-transform the dependent variable(price) and re-do the regression and then compare"
   ]
  },
  {
   "cell_type": "code",
   "execution_count": 162,
   "id": "b997ac85",
   "metadata": {},
   "outputs": [],
   "source": [
    "# Create the dependent variable (y) and independent variables (X)\n",
    "y_log = np.log(refined_total_df['price_value'])\n",
    "\n",
    "# Fit the linear regression model\n",
    "model_log = sm.OLS(y_log, X)\n",
    "results_log = model_log.fit()"
   ]
  },
  {
   "cell_type": "markdown",
   "id": "9e142184",
   "metadata": {},
   "source": [
    "Assumptions"
   ]
  },
  {
   "cell_type": "code",
   "execution_count": 169,
   "id": "3a191751",
   "metadata": {},
   "outputs": [
    {
     "data": {
      "image/png": "[encoded data removed]",
      "text/plain": [
       "<Figure size 432x288 with 1 Axes>"
      ]
     },
     "metadata": {
      "needs_background": "light"
     },
     "output_type": "display_data"
    },
    {
     "data": {
      "image/png": "[encoded data removed]",
      "text/plain": [
       "<Figure size 432x288 with 1 Axes>"
      ]
     },
     "metadata": {
      "needs_background": "light"
     },
     "output_type": "display_data"
    },
    {
     "data": {
      "image/png": "[encoded data removed]",
      "text/plain": [
       "<Figure size 432x288 with 1 Axes>"
      ]
     },
     "metadata": {
      "needs_background": "light"
     },
     "output_type": "display_data"
    },
    {
     "data": {
      "image/png": "[encoded data removed]",
      "text/plain": [
       "<Figure size 576x432 with 1 Axes>"
      ]
     },
     "metadata": {
      "needs_background": "light"
     },
     "output_type": "display_data"
    }
   ],
   "source": [
    "# Rating vs Price\n",
    "plt.scatter(refined_total_df['rating_score'], y_log)\n",
    "plt.xlabel('Rating')\n",
    "plt.ylabel('Price')\n",
    "plt.title('Rating vs Price')\n",
    "plt.show()\n",
    "\n",
    "# Residuals vs. Fitted values plot and Homoscedasticity\n",
    "sns.residplot(x=results_log.fittedvalues, y=results_log.resid)\n",
    "plt.xlabel('Fitted Values')\n",
    "plt.ylabel('Residuals')\n",
    "plt.title('Residuals vs. Fitted Values')\n",
    "plt.show()\n",
    "\n",
    "# Normality of residuals\n",
    "sm.qqplot(results_log.resid, line='s')\n",
    "plt.title('Normal Q-Q Plot of Residuals')\n",
    "plt.show()\n",
    "\n",
    "# Cook's Distance\n",
    "influence_log = results_log.get_influence()\n",
    "cooks_distance_log = influence_log.cooks_distance[0]\n",
    "# Plot Cook's distance\n",
    "plt.figure(figsize=(8, 6))\n",
    "plt.stem(np.arange(len(cooks_distance1)), cooks_distance1, markerfmt=\".\")\n",
    "plt.xlabel('Observation index')\n",
    "plt.ylabel(\"Cook's distance\")\n",
    "plt.title(\"Cook's Distance Plot\")\n",
    "plt.show()"
   ]
  },
  {
   "cell_type": "code",
   "execution_count": 166,
   "id": "63144b1d",
   "metadata": {},
   "outputs": [
    {
     "name": "stdout",
     "output_type": "stream",
     "text": [
      "                            OLS Regression Results                            \n",
      "==============================================================================\n",
      "Dep. Variable:            price_value   R-squared:                       0.008\n",
      "Model:                            OLS   Adj. R-squared:                  0.008\n",
      "Method:                 Least Squares   F-statistic:                     46.71\n",
      "Date:                Tue, 11 Jul 2023   Prob (F-statistic):           9.07e-12\n",
      "Time:                        15:59:51   Log-Likelihood:                -5912.2\n",
      "No. Observations:                5887   AIC:                         1.183e+04\n",
      "Df Residuals:                    5885   BIC:                         1.184e+04\n",
      "Df Model:                           1                                         \n",
      "Covariance Type:            nonrobust                                         \n",
      "================================================================================\n",
      "                   coef    std err          t      P>|t|      [0.025      0.975]\n",
      "--------------------------------------------------------------------------------\n",
      "const            4.5195      0.071     64.071      0.000       4.381       4.658\n",
      "rating_score     0.0568      0.008      6.834      0.000       0.040       0.073\n",
      "==============================================================================\n",
      "Omnibus:                      246.396   Durbin-Watson:                   0.847\n",
      "Prob(Omnibus):                  0.000   Jarque-Bera (JB):              320.264\n",
      "Skew:                           0.437   Prob(JB):                     2.85e-70\n",
      "Kurtosis:                       3.736   Cond. No.                         70.5\n",
      "==============================================================================\n",
      "\n",
      "Notes:\n",
      "[1] Standard Errors assume that the covariance matrix of the errors is correctly specified.\n"
     ]
    }
   ],
   "source": [
    "# Print the summary of the regression results\n",
    "print(results_log.summary())"
   ]
  },
  {
   "cell_type": "code",
   "execution_count": 167,
   "id": "12029caa",
   "metadata": {},
   "outputs": [
    {
     "name": "stdout",
     "output_type": "stream",
     "text": [
      "Model 2 has a lower AIC and is preferred.\n",
      "Model 2 has a lower BIC and is preferred.\n"
     ]
    }
   ],
   "source": [
    "aic1 = results.aic\n",
    "aic2 = results_log.aic\n",
    "\n",
    "bic1 = results.bic\n",
    "bic2 = results_log.bic\n",
    "\n",
    "if aic1 < aic2:\n",
    "    print(\"Model 1 has a lower AIC and is preferred.\")\n",
    "elif aic2 < aic1:\n",
    "    print(\"Model 2 has a lower AIC and is preferred.\")\n",
    "else:\n",
    "    print(\"Both models have the same AIC.\")\n",
    "\n",
    "if bic1 < bic2:\n",
    "    print(\"Model 1 has a lower BIC and is preferred.\")\n",
    "elif bic2 < bic1:\n",
    "    print(\"Model 2 has a lower BIC and is preferred.\")\n",
    "else:\n",
    "    print(\"Both models have the same BIC.\")"
   ]
  },
  {
   "cell_type": "markdown",
   "id": "53377c7f",
   "metadata": {},
   "source": [
    "Testing if the data is normal and if the variances are equal. This is to decide whether we use ANOVA or Kruskal-Wallis tests. "
   ]
  },
  {
   "cell_type": "code",
   "execution_count": 87,
   "id": "e4442d88",
   "metadata": {},
   "outputs": [
    {
     "name": "stdout",
     "output_type": "stream",
     "text": [
      "Group: Berlin\n",
      "Shapiro-Wilk Test\n",
      "Test Statistic: 0.8324781656265259\n",
      "P-value: 4.066549238272777e-34\n",
      "\n",
      "Levene's Test\n",
      "Test Statistic: 270.285184933378\n",
      "P-value: 1.391848127189661e-213\n",
      "\n",
      "Group: Paris\n",
      "Shapiro-Wilk Test\n",
      "Test Statistic: 0.875939130783081\n",
      "P-value: 4.831337829450249e-30\n",
      "\n",
      "Levene's Test\n",
      "Test Statistic: 270.285184933378\n",
      "P-value: 1.391848127189661e-213\n",
      "\n",
      "Group: London\n",
      "Shapiro-Wilk Test\n",
      "Test Statistic: 0.8295026421546936\n",
      "P-value: 1.9627812331080338e-34\n",
      "\n",
      "Levene's Test\n",
      "Test Statistic: 270.285184933378\n",
      "P-value: 1.391848127189661e-213\n",
      "\n",
      "Group: Rome\n",
      "Shapiro-Wilk Test\n",
      "Test Statistic: 0.7980267405509949\n",
      "P-value: 1.779319497153597e-32\n",
      "\n",
      "Levene's Test\n",
      "Test Statistic: 270.285184933378\n",
      "P-value: 1.391848127189661e-213\n",
      "\n",
      "Group: Madrid\n",
      "Shapiro-Wilk Test\n",
      "Test Statistic: 0.5337957739830017\n",
      "P-value: 0.0\n",
      "\n",
      "Levene's Test\n",
      "Test Statistic: 270.285184933378\n",
      "P-value: 1.391848127189661e-213\n",
      "\n"
     ]
    }
   ],
   "source": [
    "city_groups = refined_total_df['city'].unique()\n",
    "\n",
    "for group in city_groups:\n",
    "    data = refined_total_df.loc[refined_total_df['city'] == group, 'price_value'] \n",
    "    \n",
    "    # Shapiro-Wilk Test\n",
    "    statistic_sh, p_value_sh = stats.shapiro(data)\n",
    "    \n",
    "    # Levene's Test\n",
    "    data_groups = [refined_total_df.loc[refined_total_df['city'] == g, 'price_value'] for g in city_groups]\n",
    "    statistic_lev, p_value_lev = stats.levene(*data_groups)\n",
    "    \n",
    "    print(f\"Group: {group}\")\n",
    "    print(\"Shapiro-Wilk Test\")\n",
    "    print(f\"Test Statistic: {statistic_sh}\")\n",
    "    print(f\"P-value: {p_value_sh}\")\n",
    "    print()\n",
    "    print(\"Levene's Test\")\n",
    "    print(f\"Test Statistic: {statistic_lev}\")\n",
    "    print(f\"P-value: {p_value_lev}\")\n",
    "    print()"
   ]
  },
  {
   "cell_type": "code",
   "execution_count": 89,
   "id": "03643d79",
   "metadata": {},
   "outputs": [
    {
     "name": "stdout",
     "output_type": "stream",
     "text": [
      "Group: Booking.com\n",
      "Shapiro-Wilk Test\n",
      "Test Statistic: 0.5878348350524902\n",
      "P-value: 0.0\n",
      "\n",
      "Levene's Test\n",
      "Test Statistic: 118.63735418853081\n",
      "P-value: 3.077485158649065e-51\n",
      "\n",
      "Group: AirBnB\n",
      "Shapiro-Wilk Test\n",
      "Test Statistic: 0.8635069727897644\n",
      "P-value: 1.313726138809494e-31\n",
      "\n",
      "Levene's Test\n",
      "Test Statistic: 118.63735418853081\n",
      "P-value: 3.077485158649065e-51\n",
      "\n",
      "Group: Hotels.com\n",
      "Shapiro-Wilk Test\n",
      "Test Statistic: 0.7077808976173401\n",
      "P-value: 0.0\n",
      "\n",
      "Levene's Test\n",
      "Test Statistic: 118.63735418853081\n",
      "P-value: 3.077485158649065e-51\n",
      "\n"
     ]
    }
   ],
   "source": [
    "site_groups = refined_total_df['site'].unique()\n",
    "\n",
    "for group in site_groups:\n",
    "    data = refined_total_df.loc[refined_total_df['site'] == group, 'price_value'] \n",
    "    \n",
    "    # Shapiro-Wilk Test\n",
    "    statistic_sh, p_value_sh = stats.shapiro(data)\n",
    "    \n",
    "    # Levene's Test\n",
    "    data_groups = [refined_total_df.loc[refined_total_df['site'] == g, 'price_value'] for g in site_groups]\n",
    "    statistic_lev, p_value_lev = stats.levene(*data_groups)\n",
    "    \n",
    "    print(f\"Group: {group}\")\n",
    "    print(\"Shapiro-Wilk Test\")\n",
    "    print(f\"Test Statistic: {statistic_sh}\")\n",
    "    print(f\"P-value: {p_value_sh}\")\n",
    "    print()\n",
    "    print(\"Levene's Test\")\n",
    "    print(f\"Test Statistic: {statistic_lev}\")\n",
    "    print(f\"P-value: {p_value_lev}\")\n",
    "    print()"
   ]
  },
  {
   "cell_type": "code",
   "execution_count": 91,
   "id": "84ff4115",
   "metadata": {},
   "outputs": [
    {
     "name": "stdout",
     "output_type": "stream",
     "text": [
      "Group: 8-10\n",
      "Shapiro-Wilk Test\n",
      "Test Statistic: 0.6593838334083557\n",
      "P-value: 0.0\n",
      "\n",
      "Levene's Test\n",
      "Test Statistic: 64.9813356659885\n",
      "P-value: 1.2193140012490917e-28\n",
      "\n",
      "Group: 6-8\n",
      "Shapiro-Wilk Test\n",
      "Test Statistic: 0.5817923545837402\n",
      "P-value: 0.0\n",
      "\n",
      "Levene's Test\n",
      "Test Statistic: 64.9813356659885\n",
      "P-value: 1.2193140012490917e-28\n",
      "\n",
      "Group: 2-6\n",
      "Shapiro-Wilk Test\n",
      "Test Statistic: 0.5750277042388916\n",
      "P-value: 1.5164370974572208e-20\n",
      "\n",
      "Levene's Test\n",
      "Test Statistic: 64.9813356659885\n",
      "P-value: 1.2193140012490917e-28\n",
      "\n"
     ]
    }
   ],
   "source": [
    "rating_groups = refined_total_df['rating_category'].unique()\n",
    "\n",
    "for group in rating_groups:\n",
    "    data = refined_total_df.loc[refined_total_df['rating_category'] == group, 'price_value'] \n",
    "    \n",
    "    # Shapiro-Wilk Test\n",
    "    statistic_sh, p_value_sh = stats.shapiro(data)\n",
    "    \n",
    "    # Levene's Test\n",
    "    data_groups = [refined_total_df.loc[refined_total_df['rating_category'] == g, 'price_value'] for g in rating_groups]\n",
    "    statistic_lev, p_value_lev = stats.levene(*data_groups)\n",
    "    \n",
    "    print(f\"Group: {group}\")\n",
    "    print(\"Shapiro-Wilk Test\")\n",
    "    print(f\"Test Statistic: {statistic_sh}\")\n",
    "    print(f\"P-value: {p_value_sh}\")\n",
    "    print()\n",
    "    print(\"Levene's Test\")\n",
    "    print(f\"Test Statistic: {statistic_lev}\")\n",
    "    print(f\"P-value: {p_value_lev}\")\n",
    "    print()"
   ]
  },
  {
   "cell_type": "markdown",
   "id": "69bbc6d6",
   "metadata": {},
   "source": [
    "Perform Kruskal-Wallis"
   ]
  },
  {
   "cell_type": "code",
   "execution_count": 120,
   "id": "3bf09f70",
   "metadata": {},
   "outputs": [
    {
     "name": "stdout",
     "output_type": "stream",
     "text": [
      "Kruskal-Wallis Test\n",
      "Test Statistic: 913.7131559146592\n",
      "P-value: 1.7800763488767162e-196\n",
      "\n",
      "Medians:\n",
      "Berlin: 105.0\n",
      "Paris: 143.0\n",
      "London: 176.0\n",
      "Rome: 268.0\n",
      "Madrid: 122.0\n",
      "\n",
      "Means:\n",
      "Berlin: 114.5752427184466\n",
      "Paris: 161.07565789473685\n",
      "London: 207.81013676588898\n",
      "Rome: 350.0451127819549\n",
      "Madrid: 156.7240285487708\n",
      "\n",
      "Dunn's Test Results:\n",
      "               Berlin         London        Madrid         Paris  \\\n",
      "Berlin   1.000000e+00  3.626956e-104  5.601562e-20  4.008370e-40   \n",
      "London  3.626956e-104   1.000000e+00  1.690554e-36  9.771639e-17   \n",
      "Madrid   5.601562e-20   1.690554e-36  1.000000e+00  2.547371e-05   \n",
      "Paris    4.008370e-40   9.771639e-17  2.547371e-05  1.000000e+00   \n",
      "Rome    7.055876e-163   9.117748e-13  3.813794e-79  1.382722e-49   \n",
      "\n",
      "                 Rome  \n",
      "Berlin  7.055876e-163  \n",
      "London   9.117748e-13  \n",
      "Madrid   3.813794e-79  \n",
      "Paris    1.382722e-49  \n",
      "Rome     1.000000e+00  \n"
     ]
    }
   ],
   "source": [
    "data_groups_city = []\n",
    "medians_city = []\n",
    "means_city = []\n",
    "for group in city_groups:\n",
    "    data = refined_total_df.loc[refined_total_df['city'] == group, 'price_value']\n",
    "    data_groups_city.append(data)\n",
    "    medians_city.append(np.median(data))\n",
    "    means_city.append(np.mean(data))\n",
    "\n",
    "# Kruskal-Wallis Test\n",
    "statistic_kw_city, p_value_kw_city = stats.kruskal(*data_groups_city)\n",
    "# Perform Dunn's test\n",
    "dunn_results_city = sp.posthoc_dunn(refined_total_df, val_col='price_value', group_col='city')\n",
    "\n",
    "print(\"Kruskal-Wallis Test\")\n",
    "print(f\"Test Statistic: {statistic_kw_city}\")\n",
    "print(f\"P-value: {p_value_kw_city}\")\n",
    "print()\n",
    "# Print medians\n",
    "print(\"Medians:\")\n",
    "for i, group in enumerate(city_groups):\n",
    "    print(f\"{group}: {medians_city[i]}\")\n",
    "print()\n",
    "print(\"Means:\")\n",
    "for i, group in enumerate(city_groups):\n",
    "    print(f\"{group}: {means_city[i]}\")\n",
    "# Print Dunn's test results\n",
    "print()\n",
    "print(\"Dunn's Test Results:\")\n",
    "print(dunn_results_city)"
   ]
  },
  {
   "cell_type": "code",
   "execution_count": 121,
   "id": "fda7eb1f",
   "metadata": {},
   "outputs": [
    {
     "name": "stdout",
     "output_type": "stream",
     "text": [
      "Kruskal-Wallis Test\n",
      "Test Statistic: 1477.3727162325563\n",
      "P-value: 0.0\n",
      "\n",
      "Medians:\n",
      "Booking.com: 143.0\n",
      "AirBnB: 85.0\n",
      "Hotels.com: 183.0\n",
      "\n",
      "Means:\n",
      "Booking.com: 210.10742277547257\n",
      "AirBnB: 90.8302642113691\n",
      "Hotels.com: 222.8197650870798\n",
      "\n",
      "Dunn's Test Results:\n",
      "                    AirBnB    Booking.com    Hotels.com\n",
      "AirBnB        1.000000e+00  6.307698e-182  0.000000e+00\n",
      "Booking.com  6.307698e-182   1.000000e+00  2.042670e-24\n",
      "Hotels.com    0.000000e+00   2.042670e-24  1.000000e+00\n"
     ]
    }
   ],
   "source": [
    "data_groups_site = []\n",
    "medians_site = []\n",
    "means_site = []\n",
    "for group in site_groups:\n",
    "    data = refined_total_df.loc[refined_total_df['site'] == group, 'price_value']\n",
    "    data_groups_site.append(data)\n",
    "    medians_site.append(np.median(data))\n",
    "    means_site.append(np.mean(data))\n",
    "\n",
    "# Kruskal-Wallis Test\n",
    "statistic_kw_site, p_value_kw_site = stats.kruskal(*data_groups_site)\n",
    "\n",
    "# Perform Dunn's test\n",
    "dunn_results_site = sp.posthoc_dunn(refined_total_df, val_col='price_value', group_col='site')\n",
    "\n",
    "print(\"Kruskal-Wallis Test\")\n",
    "print(f\"Test Statistic: {statistic_kw_site}\")\n",
    "print(f\"P-value: {p_value_kw_site}\")\n",
    "print()\n",
    "# Print medians\n",
    "print(\"Medians:\")\n",
    "for i, group in enumerate(site_groups):\n",
    "    print(f\"{group}: {medians_site[i]}\")\n",
    "print()\n",
    "print(\"Means:\")\n",
    "for i, group in enumerate(site_groups):\n",
    "    print(f\"{group}: {means_site[i]}\")\n",
    "# Print Dunn's test results\n",
    "print()\n",
    "print(\"Dunn's Test Results:\")\n",
    "print(dunn_results_site)"
   ]
  },
  {
   "cell_type": "code",
   "execution_count": 122,
   "id": "d0fff2ea",
   "metadata": {},
   "outputs": [
    {
     "name": "stdout",
     "output_type": "stream",
     "text": [
      "Kruskal-Wallis Test\n",
      "Test Statistic: 187.7763102338069\n",
      "P-value: 1.6783878101482043e-41\n",
      "\n",
      "Medians:\n",
      "Group 8-10: 150.0\n",
      "Group 6-8: 126.0\n",
      "Group 2-6: 87.0\n",
      "\n",
      "Means:\n",
      "Group 8-10: 207.69831432821022\n",
      "Group 6-8: 156.0005959475566\n",
      "Group 2-6: 112.50285714285714\n",
      "\n",
      "Dunn's Test Results:\n",
      "               2-6           6-8          8-10\n",
      "2-6   1.000000e+00  4.725847e-13  5.423189e-28\n",
      "6-8   4.725847e-13  1.000000e+00  6.855938e-21\n",
      "8-10  5.423189e-28  6.855938e-21  1.000000e+00\n"
     ]
    }
   ],
   "source": [
    "data_groups_rating = []\n",
    "medians_rating = []\n",
    "means_rating = []\n",
    "for group in rating_groups:\n",
    "    data = refined_total_df.loc[refined_total_df['rating_category'] == group, 'price_value']\n",
    "    data_groups_rating.append(data)\n",
    "    medians_rating.append(np.median(data))\n",
    "    means_rating.append(np.mean(data))\n",
    "\n",
    "# Kruskal-Wallis Test\n",
    "statistic_kw_rating, p_value_kw_rating = stats.kruskal(*data_groups_rating)\n",
    "\n",
    "# Perform Dunn's test\n",
    "dunn_results_rating = sp.posthoc_dunn(refined_total_df, val_col='price_value', group_col='rating_category')\n",
    "\n",
    "print(\"Kruskal-Wallis Test\")\n",
    "print(f\"Test Statistic: {statistic_kw_rating}\")\n",
    "print(f\"P-value: {p_value_kw_rating}\")\n",
    "print()\n",
    "# Print medians\n",
    "print(\"Medians:\")\n",
    "for i, group in enumerate(rating_groups):\n",
    "    print(f\"Group {group}: {medians_rating[i]}\")\n",
    "print()\n",
    "print(\"Means:\")\n",
    "for i, group in enumerate(rating_groups):\n",
    "    print(f\"Group {group}: {means_rating[i]}\")\n",
    "# Print Dunn's test results\n",
    "print()\n",
    "print(\"Dunn's Test Results:\")\n",
    "print(dunn_results_rating)"
   ]
  }
 ],
 "metadata": {
  "kernelspec": {
   "display_name": "Python 3 (ipykernel)",
   "language": "python",
   "name": "python3"
  },
  "language_info": {
   "codemirror_mode": {
    "name": "ipython",
    "version": 3
   },
   "file_extension": ".py",
   "mimetype": "text/x-python",
   "name": "python",
   "nbconvert_exporter": "python",
   "pygments_lexer": "ipython3",
   "version": "3.9.12"
  }
 },
 "nbformat": 4,
 "nbformat_minor": 5
}
